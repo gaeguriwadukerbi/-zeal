{
 "cells": [
  {
   "cell_type": "code",
   "execution_count": 2,
   "metadata": {},
   "outputs": [
    {
     "name": "stdout",
     "output_type": "stream",
     "text": [
      "b'<?xml version=\"1.0\" encoding=\"UTF-8\"?>\\n<soapenv:Envelope xmlns:soapenv=\"http://schemas.xmlsoap.org/soap/envelope/\">\\n    <soapenv:Body>\\n        <soapenv:Fault>\\n            <faultcode>soapenv:Server</faultcode>\\n            <faultstring>Policy Falsified</faultstring>\\n            <faultactor>http://apis.data.go.kr/B552584/ArpltnInforInqireSvc?serviceKey=fLoVrDwSn9qBTNUOApqBrjY%2Bd99UJWe32K8T77qE77kvTXEXoHsx8KUde%2Bp4vO%2BloILHU5VuVz4aXXUTuNT4Ig%3D%3D&amp;returnType=json&amp;numOfRows=100&amp;pageNo=1&amp;sidoName=%EC%84%9C%EC%9A%B8&amp;ver=1.0</faultactor>\\n            <detail>\\n                <l7:policyResult\\n                    status=\"Service Not Found.  The request may have been sent to an invalid URL, or intended for an unsupported operation.\" xmlns:l7=\"http://www.layer7tech.com/ws/policy/fault\"/>\\n            </detail>\\n        </soapenv:Fault>\\n    </soapenv:Body>\\n</soapenv:Envelope>\\n'\n"
     ]
    }
   ],
   "source": [
    "# https://www.data.go.kr/data/15073855/openapi.do\n",
    "import requests\n",
    "\n",
    "url = 'http://apis.data.go.kr/B552584/ArpltnInforInqireSvc'\n",
    "params ={'serviceKey' : 'fLoVrDwSn9qBTNUOApqBrjY+d99UJWe32K8T77qE77kvTXEXoHsx8KUde+p4vO+loILHU5VuVz4aXXUTuNT4Ig==' , 'returnType' : 'json', 'numOfRows' : '100', 'pageNo' : '1', 'sidoName' : '서울', 'ver' : '1.0' }\n",
    "\n",
    "response = requests.get(url, params=params)\n",
    "print(response.content)"
   ]
  },
  {
   "cell_type": "code",
   "execution_count": 16,
   "metadata": {},
   "outputs": [
    {
     "name": "stdout",
     "output_type": "stream",
     "text": [
      "{'so2Grade': '1', 'coFlag': None, 'khaiValue': '92', 'so2Value': '0.003', 'coValue': '0.3', 'pm25Flag': None, 'pm10Flag': None, 'o3Grade': '2', 'pm10Value': '23', 'khaiGrade': '2', 'pm25Value': '18', 'sidoName': '서울', 'no2Flag': None, 'no2Grade': '1', 'o3Flag': None, 'pm25Grade': '1', 'so2Flag': None, 'dataTime': '2024-09-26 15:00', 'coGrade': '1', 'no2Value': '0.009', 'stationName': '중구', 'pm10Grade': '1', 'o3Value': '0.081'}\n",
      "{'so2Grade': '1', 'coFlag': None, 'khaiValue': '93', 'so2Value': '0.003', 'coValue': '0.5', 'pm25Flag': None, 'pm10Flag': None, 'o3Grade': '2', 'pm10Value': '41', 'khaiGrade': '2', 'pm25Value': '18', 'sidoName': '서울', 'no2Flag': None, 'no2Grade': '1', 'o3Flag': None, 'pm25Grade': '2', 'so2Flag': None, 'dataTime': '2024-09-26 15:00', 'coGrade': '1', 'no2Value': '0.026', 'stationName': '한강대로', 'pm10Grade': '2', 'o3Value': '0.082'}\n",
      "{'so2Grade': '1', 'coFlag': None, 'khaiValue': '94', 'so2Value': '0.003', 'coValue': '0.4', 'pm25Flag': None, 'pm10Flag': None, 'o3Grade': '2', 'pm10Value': '24', 'khaiGrade': '2', 'pm25Value': '16', 'sidoName': '서울', 'no2Flag': None, 'no2Grade': '1', 'o3Flag': None, 'pm25Grade': '1', 'so2Flag': None, 'dataTime': '2024-09-26 15:00', 'coGrade': '1', 'no2Value': '0.016', 'stationName': '종로구', 'pm10Grade': '1', 'o3Value': '0.083'}\n",
      "{'so2Grade': '1', 'coFlag': None, 'khaiValue': '-', 'so2Value': '0.002', 'coValue': '0.5', 'pm25Flag': None, 'pm10Flag': None, 'o3Grade': '2', 'pm10Value': '30', 'khaiGrade': None, 'pm25Value': '19', 'sidoName': '서울', 'no2Flag': None, 'no2Grade': '1', 'o3Flag': None, 'pm25Grade': None, 'so2Flag': None, 'dataTime': '2024-09-26 15:00', 'coGrade': '1', 'no2Value': '0.023', 'stationName': '청계천로', 'pm10Grade': None, 'o3Value': '0.068'}\n",
      "{'so2Grade': '1', 'coFlag': None, 'khaiValue': '81', 'so2Value': '0.003', 'coValue': '0.5', 'pm25Flag': None, 'pm10Flag': None, 'o3Grade': '2', 'pm10Value': '32', 'khaiGrade': '2', 'pm25Value': '16', 'sidoName': '서울', 'no2Flag': None, 'no2Grade': '1', 'o3Flag': None, 'pm25Grade': '1', 'so2Flag': None, 'dataTime': '2024-09-26 15:00', 'coGrade': '1', 'no2Value': '0.024', 'stationName': '종로', 'pm10Grade': '1', 'o3Value': '0.067'}\n",
      "{'so2Grade': '1', 'coFlag': None, 'khaiValue': '85', 'so2Value': '0.003', 'coValue': '0.4', 'pm25Flag': None, 'pm10Flag': None, 'o3Grade': '2', 'pm10Value': '28', 'khaiGrade': '2', 'pm25Value': '18', 'sidoName': '서울', 'no2Flag': None, 'no2Grade': '1', 'o3Flag': None, 'pm25Grade': '2', 'so2Flag': None, 'dataTime': '2024-09-26 15:00', 'coGrade': '1', 'no2Value': '0.024', 'stationName': '용산구', 'pm10Grade': '1', 'o3Value': '0.072'}\n",
      "{'so2Grade': '1', 'coFlag': None, 'khaiValue': '115', 'so2Value': '0.003', 'coValue': '0.7', 'pm25Flag': None, 'pm10Flag': None, 'o3Grade': '3', 'pm10Value': '27', 'khaiGrade': '3', 'pm25Value': '20', 'sidoName': '서울', 'no2Flag': None, 'no2Grade': '1', 'o3Flag': None, 'pm25Grade': '1', 'so2Flag': None, 'dataTime': '2024-09-26 15:00', 'coGrade': '1', 'no2Value': '0.017', 'stationName': '광진구', 'pm10Grade': '1', 'o3Value': '0.096'}\n",
      "{'so2Grade': '1', 'coFlag': None, 'khaiValue': '93', 'so2Value': '0.003', 'coValue': '0.4', 'pm25Flag': None, 'pm10Flag': None, 'o3Grade': '2', 'pm10Value': '30', 'khaiGrade': '2', 'pm25Value': '17', 'sidoName': '서울', 'no2Flag': None, 'no2Grade': '1', 'o3Flag': None, 'pm25Grade': '1', 'so2Flag': None, 'dataTime': '2024-09-26 15:00', 'coGrade': '1', 'no2Value': '0.021', 'stationName': '성동구', 'pm10Grade': '1', 'o3Value': '0.081'}\n",
      "{'so2Grade': None, 'coFlag': '통신장애', 'khaiValue': '-', 'so2Value': '-', 'coValue': '-', 'pm25Flag': '통신장애', 'pm10Flag': None, 'o3Grade': None, 'pm10Value': '33', 'khaiGrade': None, 'pm25Value': '-', 'sidoName': '서울', 'no2Flag': '통신장애', 'no2Grade': None, 'o3Flag': '통신장애', 'pm25Grade': None, 'so2Flag': '통신장애', 'dataTime': '2024-09-26 15:00', 'coGrade': None, 'no2Value': '-', 'stationName': '강변북로', 'pm10Grade': None, 'o3Value': '-'}\n",
      "{'so2Grade': '1', 'coFlag': None, 'khaiValue': '91', 'so2Value': '0.002', 'coValue': '0.3', 'pm25Flag': None, 'pm10Flag': None, 'o3Grade': '2', 'pm10Value': '26', 'khaiGrade': '2', 'pm25Value': '16', 'sidoName': '서울', 'no2Flag': None, 'no2Grade': '1', 'o3Flag': None, 'pm25Grade': '1', 'so2Flag': None, 'dataTime': '2024-09-26 15:00', 'coGrade': '1', 'no2Value': '0.014', 'stationName': '중랑구', 'pm10Grade': '1', 'o3Value': '0.079'}\n",
      "{'so2Grade': None, 'coFlag': '통신장애', 'khaiValue': '-', 'so2Value': '-', 'coValue': '-', 'pm25Flag': '통신장애', 'pm10Flag': '통신장애', 'o3Grade': None, 'pm10Value': '-', 'khaiGrade': None, 'pm25Value': '-', 'sidoName': '서울', 'no2Flag': '통신장애', 'no2Grade': None, 'o3Flag': '통신장애', 'pm25Grade': None, 'so2Flag': '통신장애', 'dataTime': '2024-09-26 15:00', 'coGrade': None, 'no2Value': '-', 'stationName': '동대문구', 'pm10Grade': None, 'o3Value': '-'}\n",
      "{'so2Grade': '1', 'coFlag': None, 'khaiValue': '-', 'so2Value': '0.003', 'coValue': '0.5', 'pm25Flag': None, 'pm10Flag': None, 'o3Grade': '2', 'pm10Value': '30', 'khaiGrade': None, 'pm25Value': '15', 'sidoName': '서울', 'no2Flag': None, 'no2Grade': '2', 'o3Flag': None, 'pm25Grade': None, 'so2Flag': None, 'dataTime': '2024-09-26 15:00', 'coGrade': '1', 'no2Value': '0.030', 'stationName': '홍릉로', 'pm10Grade': None, 'o3Value': '0.066'}\n",
      "{'so2Grade': '1', 'coFlag': None, 'khaiValue': '87', 'so2Value': '0.003', 'coValue': '0.3', 'pm25Flag': None, 'pm10Flag': None, 'o3Grade': '2', 'pm10Value': '26', 'khaiGrade': '2', 'pm25Value': '13', 'sidoName': '서울', 'no2Flag': None, 'no2Grade': '1', 'o3Flag': None, 'pm25Grade': '1', 'so2Flag': None, 'dataTime': '2024-09-26 15:00', 'coGrade': '1', 'no2Value': '0.014', 'stationName': '성북구', 'pm10Grade': '1', 'o3Value': '0.074'}\n",
      "{'so2Grade': '1', 'coFlag': None, 'khaiValue': '84', 'so2Value': '0.003', 'coValue': '0.5', 'pm25Flag': None, 'pm10Flag': None, 'o3Grade': '2', 'pm10Value': '32', 'khaiGrade': '2', 'pm25Value': '17', 'sidoName': '서울', 'no2Flag': None, 'no2Grade': '2', 'o3Flag': None, 'pm25Grade': '1', 'so2Flag': None, 'dataTime': '2024-09-26 15:00', 'coGrade': '1', 'no2Value': '0.036', 'stationName': '정릉로', 'pm10Grade': '1', 'o3Value': '0.071'}\n",
      "{'so2Grade': '1', 'coFlag': None, 'khaiValue': '92', 'so2Value': '0.002', 'coValue': '0.3', 'pm25Flag': None, 'pm10Flag': None, 'o3Grade': '2', 'pm10Value': '14', 'khaiGrade': '2', 'pm25Value': '13', 'sidoName': '서울', 'no2Flag': None, 'no2Grade': '1', 'o3Flag': None, 'pm25Grade': '1', 'so2Flag': None, 'dataTime': '2024-09-26 15:00', 'coGrade': '1', 'no2Value': '0.008', 'stationName': '도봉구', 'pm10Grade': '1', 'o3Value': '0.081'}\n",
      "{'so2Grade': '1', 'coFlag': None, 'khaiValue': '73', 'so2Value': '0.003', 'coValue': '0.3', 'pm25Flag': None, 'pm10Flag': None, 'o3Grade': '2', 'pm10Value': '22', 'khaiGrade': '2', 'pm25Value': '18', 'sidoName': '서울', 'no2Flag': None, 'no2Grade': '1', 'o3Flag': None, 'pm25Grade': '1', 'so2Flag': None, 'dataTime': '2024-09-26 15:00', 'coGrade': '1', 'no2Value': '0.009', 'stationName': '은평구', 'pm10Grade': '1', 'o3Value': '0.057'}\n",
      "{'so2Grade': '1', 'coFlag': None, 'khaiValue': '95', 'so2Value': '0.003', 'coValue': '0.3', 'pm25Flag': None, 'pm10Flag': None, 'o3Grade': '2', 'pm10Value': '19', 'khaiGrade': '2', 'pm25Value': '12', 'sidoName': '서울', 'no2Flag': None, 'no2Grade': '1', 'o3Flag': None, 'pm25Grade': '1', 'so2Flag': None, 'dataTime': '2024-09-26 15:00', 'coGrade': '1', 'no2Value': '0.011', 'stationName': '서대문구', 'pm10Grade': '1', 'o3Value': '0.083'}\n",
      "{'so2Grade': '1', 'coFlag': None, 'khaiValue': '89', 'so2Value': '0.003', 'coValue': '0.3', 'pm25Flag': None, 'pm10Flag': None, 'o3Grade': '2', 'pm10Value': '17', 'khaiGrade': '2', 'pm25Value': '15', 'sidoName': '서울', 'no2Flag': None, 'no2Grade': '1', 'o3Flag': None, 'pm25Grade': '1', 'so2Flag': None, 'dataTime': '2024-09-26 15:00', 'coGrade': '1', 'no2Value': '0.014', 'stationName': '마포구', 'pm10Grade': '1', 'o3Value': '0.077'}\n",
      "{'so2Grade': '1', 'coFlag': None, 'khaiValue': '66', 'so2Value': '0.003', 'coValue': '0.6', 'pm25Flag': None, 'pm10Flag': None, 'o3Grade': '2', 'pm10Value': '28', 'khaiGrade': '2', 'pm25Value': '22', 'sidoName': '서울', 'no2Flag': None, 'no2Grade': '2', 'o3Flag': None, 'pm25Grade': '1', 'so2Flag': None, 'dataTime': '2024-09-26 15:00', 'coGrade': '1', 'no2Value': '0.038', 'stationName': '신촌로', 'pm10Grade': '1', 'o3Value': '0.048'}\n",
      "{'so2Grade': '1', 'coFlag': None, 'khaiValue': '86', 'so2Value': '0.003', 'coValue': '0.3', 'pm25Flag': None, 'pm10Flag': None, 'o3Grade': '2', 'pm10Value': '21', 'khaiGrade': '2', 'pm25Value': '17', 'sidoName': '서울', 'no2Flag': None, 'no2Grade': '1', 'o3Flag': None, 'pm25Grade': '1', 'so2Flag': None, 'dataTime': '2024-09-26 15:00', 'coGrade': '1', 'no2Value': '0.012', 'stationName': '강서구', 'pm10Grade': '1', 'o3Value': '0.073'}\n",
      "{'so2Grade': None, 'coFlag': '통신장애', 'khaiValue': '-', 'so2Value': '-', 'coValue': '-', 'pm25Flag': '통신장애', 'pm10Flag': '통신장애', 'o3Grade': None, 'pm10Value': '-', 'khaiGrade': None, 'pm25Value': '-', 'sidoName': '서울', 'no2Flag': '통신장애', 'no2Grade': None, 'o3Flag': '통신장애', 'pm25Grade': None, 'so2Flag': '통신장애', 'dataTime': '2024-09-26 15:00', 'coGrade': None, 'no2Value': '-', 'stationName': '공항대로', 'pm10Grade': None, 'o3Value': '-'}\n",
      "{'so2Grade': '1', 'coFlag': None, 'khaiValue': '86', 'so2Value': '0.003', 'coValue': '0.4', 'pm25Flag': None, 'pm10Flag': None, 'o3Grade': '2', 'pm10Value': '22', 'khaiGrade': '2', 'pm25Value': '10', 'sidoName': '서울', 'no2Flag': None, 'no2Grade': '1', 'o3Flag': None, 'pm25Grade': '1', 'so2Flag': None, 'dataTime': '2024-09-26 15:00', 'coGrade': '1', 'no2Value': '0.010', 'stationName': '구로구', 'pm10Grade': '1', 'o3Value': '0.073'}\n",
      "{'so2Grade': '1', 'coFlag': None, 'khaiValue': '90', 'so2Value': '0.003', 'coValue': '0.3', 'pm25Flag': None, 'pm10Flag': None, 'o3Grade': '2', 'pm10Value': '22', 'khaiGrade': '2', 'pm25Value': '18', 'sidoName': '서울', 'no2Flag': None, 'no2Grade': '1', 'o3Flag': None, 'pm25Grade': '1', 'so2Flag': None, 'dataTime': '2024-09-26 15:00', 'coGrade': '1', 'no2Value': '0.017', 'stationName': '영등포구', 'pm10Grade': '1', 'o3Value': '0.078'}\n",
      "{'so2Grade': '1', 'coFlag': None, 'khaiValue': '75', 'so2Value': '0.002', 'coValue': '0.5', 'pm25Flag': None, 'pm10Flag': None, 'o3Grade': '2', 'pm10Value': '25', 'khaiGrade': '2', 'pm25Value': '16', 'sidoName': '서울', 'no2Flag': None, 'no2Grade': '2', 'o3Flag': None, 'pm25Grade': '1', 'so2Flag': None, 'dataTime': '2024-09-26 15:00', 'coGrade': '1', 'no2Value': '0.032', 'stationName': '영등포로', 'pm10Grade': '1', 'o3Value': '0.059'}\n",
      "{'so2Grade': '1', 'coFlag': None, 'khaiValue': '96', 'so2Value': '0.003', 'coValue': '0.3', 'pm25Flag': None, 'pm10Flag': None, 'o3Grade': '2', 'pm10Value': '31', 'khaiGrade': '2', 'pm25Value': '19', 'sidoName': '서울', 'no2Flag': None, 'no2Grade': '1', 'o3Flag': None, 'pm25Grade': '1', 'so2Flag': None, 'dataTime': '2024-09-26 15:00', 'coGrade': '1', 'no2Value': '0.017', 'stationName': '동작구', 'pm10Grade': '1', 'o3Value': '0.085'}\n",
      "{'so2Grade': '1', 'coFlag': None, 'khaiValue': '83', 'so2Value': '0.003', 'coValue': '0.4', 'pm25Flag': None, 'pm10Flag': None, 'o3Grade': '2', 'pm10Value': '30', 'khaiGrade': '2', 'pm25Value': '24', 'sidoName': '서울', 'no2Flag': None, 'no2Grade': '2', 'o3Flag': None, 'pm25Grade': '2', 'so2Flag': None, 'dataTime': '2024-09-26 15:00', 'coGrade': '1', 'no2Value': '0.039', 'stationName': '동작대로 중앙차로', 'pm10Grade': '1', 'o3Value': '0.069'}\n",
      "{'so2Grade': '1', 'coFlag': None, 'khaiValue': '89', 'so2Value': '0.003', 'coValue': '0.3', 'pm25Flag': None, 'pm10Flag': None, 'o3Grade': '2', 'pm10Value': '28', 'khaiGrade': '2', 'pm25Value': '15', 'sidoName': '서울', 'no2Flag': None, 'no2Grade': '1', 'o3Flag': None, 'pm25Grade': '1', 'so2Flag': None, 'dataTime': '2024-09-26 15:00', 'coGrade': '1', 'no2Value': '0.017', 'stationName': '관악구', 'pm10Grade': '1', 'o3Value': '0.076'}\n",
      "{'so2Grade': '1', 'coFlag': None, 'khaiValue': '92', 'so2Value': '0.003', 'coValue': '0.4', 'pm25Flag': None, 'pm10Flag': None, 'o3Grade': '2', 'pm10Value': '27', 'khaiGrade': '2', 'pm25Value': '19', 'sidoName': '서울', 'no2Flag': None, 'no2Grade': '1', 'o3Flag': None, 'pm25Grade': '1', 'so2Flag': None, 'dataTime': '2024-09-26 15:00', 'coGrade': '1', 'no2Value': '0.017', 'stationName': '강남구', 'pm10Grade': '1', 'o3Value': '0.080'}\n",
      "{'so2Grade': '1', 'coFlag': None, 'khaiValue': '92', 'so2Value': '0.003', 'coValue': '0.3', 'pm25Flag': None, 'pm10Flag': None, 'o3Grade': '2', 'pm10Value': '33', 'khaiGrade': '2', 'pm25Value': '17', 'sidoName': '서울', 'no2Flag': None, 'no2Grade': '1', 'o3Flag': None, 'pm25Grade': '1', 'so2Flag': None, 'dataTime': '2024-09-26 15:00', 'coGrade': '1', 'no2Value': '0.015', 'stationName': '서초구', 'pm10Grade': '1', 'o3Value': '0.081'}\n",
      "{'so2Grade': '1', 'coFlag': None, 'khaiValue': '81', 'so2Value': '0.003', 'coValue': '0.6', 'pm25Flag': None, 'pm10Flag': None, 'o3Grade': '2', 'pm10Value': '27', 'khaiGrade': '2', 'pm25Value': '21', 'sidoName': '서울', 'no2Flag': None, 'no2Grade': '1', 'o3Flag': None, 'pm25Grade': '2', 'so2Flag': None, 'dataTime': '2024-09-26 15:00', 'coGrade': '1', 'no2Value': '0.020', 'stationName': '도산대로', 'pm10Grade': '1', 'o3Value': '0.066'}\n",
      "{'so2Grade': '1', 'coFlag': None, 'khaiValue': '67', 'so2Value': '0.002', 'coValue': '0.6', 'pm25Flag': None, 'pm10Flag': None, 'o3Grade': '2', 'pm10Value': '32', 'khaiGrade': '2', 'pm25Value': '17', 'sidoName': '서울', 'no2Flag': None, 'no2Grade': '2', 'o3Flag': None, 'pm25Grade': '1', 'so2Flag': None, 'dataTime': '2024-09-26 15:00', 'coGrade': '1', 'no2Value': '0.039', 'stationName': '강남대로', 'pm10Grade': '1', 'o3Value': '0.050'}\n",
      "{'so2Grade': '1', 'coFlag': None, 'khaiValue': '88', 'so2Value': '0.003', 'coValue': '0.4', 'pm25Flag': None, 'pm10Flag': None, 'o3Grade': '2', 'pm10Value': '31', 'khaiGrade': '2', 'pm25Value': '12', 'sidoName': '서울', 'no2Flag': None, 'no2Grade': '1', 'o3Flag': None, 'pm25Grade': '1', 'so2Flag': None, 'dataTime': '2024-09-26 15:00', 'coGrade': '1', 'no2Value': '0.019', 'stationName': '송파구', 'pm10Grade': '1', 'o3Value': '0.075'}\n",
      "{'so2Grade': '1', 'coFlag': None, 'khaiValue': '93', 'so2Value': '0.003', 'coValue': '0.5', 'pm25Flag': None, 'pm10Flag': None, 'o3Grade': '2', 'pm10Value': '30', 'khaiGrade': '2', 'pm25Value': '22', 'sidoName': '서울', 'no2Flag': None, 'no2Grade': '1', 'o3Flag': None, 'pm25Grade': '1', 'so2Flag': None, 'dataTime': '2024-09-26 15:00', 'coGrade': '1', 'no2Value': '0.014', 'stationName': '강동구', 'pm10Grade': '1', 'o3Value': '0.081'}\n",
      "{'so2Grade': '1', 'coFlag': None, 'khaiValue': '80', 'so2Value': '0.002', 'coValue': '0.5', 'pm25Flag': None, 'pm10Flag': None, 'o3Grade': '2', 'pm10Value': '28', 'khaiGrade': '2', 'pm25Value': '16', 'sidoName': '서울', 'no2Flag': None, 'no2Grade': '2', 'o3Flag': None, 'pm25Grade': '1', 'so2Flag': None, 'dataTime': '2024-09-26 15:00', 'coGrade': '1', 'no2Value': '0.037', 'stationName': '천호대로', 'pm10Grade': '1', 'o3Value': '0.065'}\n",
      "{'so2Grade': '1', 'coFlag': None, 'khaiValue': '90', 'so2Value': '0.003', 'coValue': '0.4', 'pm25Flag': None, 'pm10Flag': None, 'o3Grade': '2', 'pm10Value': '22', 'khaiGrade': '2', 'pm25Value': '18', 'sidoName': '서울', 'no2Flag': None, 'no2Grade': '1', 'o3Flag': None, 'pm25Grade': '1', 'so2Flag': None, 'dataTime': '2024-09-26 15:00', 'coGrade': '1', 'no2Value': '0.020', 'stationName': '금천구', 'pm10Grade': '1', 'o3Value': '0.077'}\n",
      "{'so2Grade': '1', 'coFlag': None, 'khaiValue': '79', 'so2Value': '0.003', 'coValue': '0.4', 'pm25Flag': None, 'pm10Flag': None, 'o3Grade': '2', 'pm10Value': '30', 'khaiGrade': '2', 'pm25Value': '19', 'sidoName': '서울', 'no2Flag': None, 'no2Grade': '1', 'o3Flag': None, 'pm25Grade': '2', 'so2Flag': None, 'dataTime': '2024-09-26 15:00', 'coGrade': '1', 'no2Value': '0.024', 'stationName': '시흥대로', 'pm10Grade': '1', 'o3Value': '0.065'}\n",
      "{'so2Grade': '1', 'coFlag': None, 'khaiValue': '92', 'so2Value': '0.002', 'coValue': '0.3', 'pm25Flag': None, 'pm10Flag': None, 'o3Grade': '2', 'pm10Value': '16', 'khaiGrade': '2', 'pm25Value': '8', 'sidoName': '서울', 'no2Flag': None, 'no2Grade': '1', 'o3Flag': None, 'pm25Grade': '1', 'so2Flag': None, 'dataTime': '2024-09-26 15:00', 'coGrade': '1', 'no2Value': '0.006', 'stationName': '강북구', 'pm10Grade': '1', 'o3Value': '0.080'}\n",
      "{'so2Grade': '1', 'coFlag': None, 'khaiValue': '82', 'so2Value': '0.003', 'coValue': '0.3', 'pm25Flag': None, 'pm10Flag': None, 'o3Grade': '2', 'pm10Value': '19', 'khaiGrade': '2', 'pm25Value': '15', 'sidoName': '서울', 'no2Flag': None, 'no2Grade': '1', 'o3Flag': None, 'pm25Grade': '1', 'so2Flag': None, 'dataTime': '2024-09-26 15:00', 'coGrade': '1', 'no2Value': '0.013', 'stationName': '양천구', 'pm10Grade': '1', 'o3Value': '0.068'}\n",
      "{'so2Grade': '1', 'coFlag': None, 'khaiValue': '84', 'so2Value': '0.002', 'coValue': '0.3', 'pm25Flag': None, 'pm10Flag': None, 'o3Grade': '2', 'pm10Value': '23', 'khaiGrade': '2', 'pm25Value': '11', 'sidoName': '서울', 'no2Flag': None, 'no2Grade': '1', 'o3Flag': None, 'pm25Grade': '1', 'so2Flag': None, 'dataTime': '2024-09-26 15:00', 'coGrade': '1', 'no2Value': '0.008', 'stationName': '노원구', 'pm10Grade': '1', 'o3Value': '0.071'}\n",
      "{'so2Grade': None, 'coFlag': '통신장애', 'khaiValue': '-', 'so2Value': '-', 'coValue': '-', 'pm25Flag': '통신장애', 'pm10Flag': '통신장애', 'o3Grade': None, 'pm10Value': '-', 'khaiGrade': None, 'pm25Value': '-', 'sidoName': '서울', 'no2Flag': '통신장애', 'no2Grade': None, 'o3Flag': '통신장애', 'pm25Grade': None, 'so2Flag': '통신장애', 'dataTime': '2024-09-26 15:00', 'coGrade': None, 'no2Value': '-', 'stationName': '화랑로', 'pm10Grade': None, 'o3Value': '-'}\n"
     ]
    }
   ],
   "source": [
    "import json\n",
    "import requests\n",
    "\n",
    "def get_air_quality_data(sido, service_key, num_of_rows=100, page_no=1, version='1.0', return_type='json'):\n",
    "    \"\"\"\n",
    "    해당 시도의 대기오염 정보를 조회하는 함수.\n",
    "\n",
    "    Parameters:\n",
    "    - sido (str): 시도 이름 (예: '서울', '경기')\n",
    "    - service_key (str): API 인증키\n",
    "    - num_of_rows (int): 한 페이지에 조회할 데이터 수 (기본값: 100)\n",
    "    - page_no (int): 조회할 페이지 번호 (기본값: 1)\n",
    "    - version (str): API 버전 (기본값: '1.0')\n",
    "    - return_type (str): 응답 데이터 타입 (json 또는 xml, 기본값: 'json')\n",
    "\n",
    "    Returns:\n",
    "    - dict: API 호출 결과가 성공적일 경우 데이터 반환\n",
    "    - None: 호출에 실패하거나 데이터를 얻지 못한 경우\n",
    "    \"\"\"\n",
    "    url = 'http://apis.data.go.kr/B552584/ArpltnInforInqireSvc/getCtprvnRltmMesureDnsty'  # 엔드포인트 확인\n",
    "    params = {\n",
    "        'serviceKey': service_key,\n",
    "        'returnType': return_type,\n",
    "        'numOfRows': str(num_of_rows),\n",
    "        'pageNo': str(page_no),\n",
    "        'sidoName': sido,  # \"서울\"처럼 시/도 단위로 조회\n",
    "        'ver': version\n",
    "    }\n",
    "    \n",
    "    response = requests.get(url, params=params)\n",
    "    \n",
    "    # HTTP 상태 코드 확인\n",
    "    if response.status_code != 200:\n",
    "        print(f\"HTTP Error: {response.status_code}\")\n",
    "        print(response.text)\n",
    "        return None\n",
    "    \n",
    "    content = response.content.decode('utf-8')\n",
    "    \n",
    "    # 응답 내용 확인\n",
    "    if not content.strip():  # 빈 응답 처리\n",
    "        print(\"Received empty response from the server.\")\n",
    "        return None\n",
    "    \n",
    "    try:\n",
    "        data = json.loads(content)\n",
    "        return data\n",
    "    except json.JSONDecodeError as e:\n",
    "        print(f\"JSON Decode Error: {e}\")\n",
    "        print(\"Response content:\", content)\n",
    "        return None\n",
    "\n",
    "# 함수 사용 예시\n",
    "service_key = 'fLoVrDwSn9qBTNUOApqBrjY+d99UJWe32K8T77qE77kvTXEXoHsx8KUde+p4vO+loILHU5VuVz4aXXUTuNT4Ig=='\n",
    "sido_name = '서울'  # '서울'로 시/도 단위로 조회\n",
    "\n",
    "data = get_air_quality_data(sido=sido_name, service_key=service_key)\n",
    "\n",
    "if data and data['response']['body']['totalCount'] > 0:\n",
    "    for item in data['response']['body']['items']:\n",
    "        print(item)\n",
    "else:\n",
    "    print(\"No data found for the specified city.\")\n",
    "\n"
   ]
  },
  {
   "cell_type": "code",
   "execution_count": 17,
   "metadata": {},
   "outputs": [
    {
     "name": "stdout",
     "output_type": "stream",
     "text": [
      "[{'측정소명': '중구', '날짜': '2024-09-26 15:00', 'pm10농도': '23', 'pm25농도': '18', 'so2농도': '0.003', 'co농도': '0.3', 'o3농도': '0.081', 'no2농도': '0.009', '통합대기환경수치': '92', '통합대기환경지수': '2', 'pm10등급': '1', 'pm25등급': '1'}, {'측정소명': '한강대로', '날짜': '2024-09-26 15:00', 'pm10농도': '41', 'pm25농도': '18', 'so2농도': '0.003', 'co농도': '0.5', 'o3농도': '0.082', 'no2농도': '0.026', '통합대기환경수치': '93', '통합대기환경지수': '2', 'pm10등급': '2', 'pm25등급': '2'}, {'측정소명': '종로구', '날짜': '2024-09-26 15:00', 'pm10농도': '24', 'pm25농도': '16', 'so2농도': '0.003', 'co농도': '0.4', 'o3농도': '0.083', 'no2농도': '0.016', '통합대기환경수치': '94', '통합대기환경지수': '2', 'pm10등급': '1', 'pm25등급': '1'}, {'측정소명': '청계천로', '날짜': '2024-09-26 15:00', 'pm10농도': '30', 'pm25농도': '19', 'so2농도': '0.002', 'co농도': '0.5', 'o3농도': '0.068', 'no2농도': '0.023', '통합대기환경수치': '-', '통합대기환경지수': None, 'pm10등급': None, 'pm25등급': None}, {'측정소명': '종로', '날짜': '2024-09-26 15:00', 'pm10농도': '32', 'pm25농도': '16', 'so2농도': '0.003', 'co농도': '0.5', 'o3농도': '0.067', 'no2농도': '0.024', '통합대기환경수치': '81', '통합대기환경지수': '2', 'pm10등급': '1', 'pm25등급': '1'}, {'측정소명': '용산구', '날짜': '2024-09-26 15:00', 'pm10농도': '28', 'pm25농도': '18', 'so2농도': '0.003', 'co농도': '0.4', 'o3농도': '0.072', 'no2농도': '0.024', '통합대기환경수치': '85', '통합대기환경지수': '2', 'pm10등급': '1', 'pm25등급': '2'}, {'측정소명': '광진구', '날짜': '2024-09-26 15:00', 'pm10농도': '27', 'pm25농도': '20', 'so2농도': '0.003', 'co농도': '0.7', 'o3농도': '0.096', 'no2농도': '0.017', '통합대기환경수치': '115', '통합대기환경지수': '3', 'pm10등급': '1', 'pm25등급': '1'}, {'측정소명': '성동구', '날짜': '2024-09-26 15:00', 'pm10농도': '30', 'pm25농도': '17', 'so2농도': '0.003', 'co농도': '0.4', 'o3농도': '0.081', 'no2농도': '0.021', '통합대기환경수치': '93', '통합대기환경지수': '2', 'pm10등급': '1', 'pm25등급': '1'}, {'측정소명': '강변북로', '날짜': '2024-09-26 15:00', 'pm10농도': '33', 'pm25농도': '-', 'so2농도': '-', 'co농도': '-', 'o3농도': '-', 'no2농도': '-', '통합대기환경수치': '-', '통합대기환경지수': None, 'pm10등급': None, 'pm25등급': None}, {'측정소명': '중랑구', '날짜': '2024-09-26 15:00', 'pm10농도': '26', 'pm25농도': '16', 'so2농도': '0.002', 'co농도': '0.3', 'o3농도': '0.079', 'no2농도': '0.014', '통합대기환경수치': '91', '통합대기환경지수': '2', 'pm10등급': '1', 'pm25등급': '1'}, {'측정소명': '동대문구', '날짜': '2024-09-26 15:00', 'pm10농도': '-', 'pm25농도': '-', 'so2농도': '-', 'co농도': '-', 'o3농도': '-', 'no2농도': '-', '통합대기환경수치': '-', '통합대기환경지수': None, 'pm10등급': None, 'pm25등급': None}, {'측정소명': '홍릉로', '날짜': '2024-09-26 15:00', 'pm10농도': '30', 'pm25농도': '15', 'so2농도': '0.003', 'co농도': '0.5', 'o3농도': '0.066', 'no2농도': '0.030', '통합대기환경수치': '-', '통합대기환경지수': None, 'pm10등급': None, 'pm25등급': None}, {'측정소명': '성북구', '날짜': '2024-09-26 15:00', 'pm10농도': '26', 'pm25농도': '13', 'so2농도': '0.003', 'co농도': '0.3', 'o3농도': '0.074', 'no2농도': '0.014', '통합대기환경수치': '87', '통합대기환경지수': '2', 'pm10등급': '1', 'pm25등급': '1'}, {'측정소명': '정릉로', '날짜': '2024-09-26 15:00', 'pm10농도': '32', 'pm25농도': '17', 'so2농도': '0.003', 'co농도': '0.5', 'o3농도': '0.071', 'no2농도': '0.036', '통합대기환경수치': '84', '통합대기환경지수': '2', 'pm10등급': '1', 'pm25등급': '1'}, {'측정소명': '도봉구', '날짜': '2024-09-26 15:00', 'pm10농도': '14', 'pm25농도': '13', 'so2농도': '0.002', 'co농도': '0.3', 'o3농도': '0.081', 'no2농도': '0.008', '통합대기환경수치': '92', '통합대기환경지수': '2', 'pm10등급': '1', 'pm25등급': '1'}, {'측정소명': '은평구', '날짜': '2024-09-26 15:00', 'pm10농도': '22', 'pm25농도': '18', 'so2농도': '0.003', 'co농도': '0.3', 'o3농도': '0.057', 'no2농도': '0.009', '통합대기환경수치': '73', '통합대기환경지수': '2', 'pm10등급': '1', 'pm25등급': '1'}, {'측정소명': '서대문구', '날짜': '2024-09-26 15:00', 'pm10농도': '19', 'pm25농도': '12', 'so2농도': '0.003', 'co농도': '0.3', 'o3농도': '0.083', 'no2농도': '0.011', '통합대기환경수치': '95', '통합대기환경지수': '2', 'pm10등급': '1', 'pm25등급': '1'}, {'측정소명': '마포구', '날짜': '2024-09-26 15:00', 'pm10농도': '17', 'pm25농도': '15', 'so2농도': '0.003', 'co농도': '0.3', 'o3농도': '0.077', 'no2농도': '0.014', '통합대기환경수치': '89', '통합대기환경지수': '2', 'pm10등급': '1', 'pm25등급': '1'}, {'측정소명': '신촌로', '날짜': '2024-09-26 15:00', 'pm10농도': '28', 'pm25농도': '22', 'so2농도': '0.003', 'co농도': '0.6', 'o3농도': '0.048', 'no2농도': '0.038', '통합대기환경수치': '66', '통합대기환경지수': '2', 'pm10등급': '1', 'pm25등급': '1'}, {'측정소명': '강서구', '날짜': '2024-09-26 15:00', 'pm10농도': '21', 'pm25농도': '17', 'so2농도': '0.003', 'co농도': '0.3', 'o3농도': '0.073', 'no2농도': '0.012', '통합대기환경수치': '86', '통합대기환경지수': '2', 'pm10등급': '1', 'pm25등급': '1'}, {'측정소명': '공항대로', '날짜': '2024-09-26 15:00', 'pm10농도': '-', 'pm25농도': '-', 'so2농도': '-', 'co농도': '-', 'o3농도': '-', 'no2농도': '-', '통합대기환경수치': '-', '통합대기환경지수': None, 'pm10등급': None, 'pm25등급': None}, {'측정소명': '구로구', '날짜': '2024-09-26 15:00', 'pm10농도': '22', 'pm25농도': '10', 'so2농도': '0.003', 'co농도': '0.4', 'o3농도': '0.073', 'no2농도': '0.010', '통합대기환경수치': '86', '통합대기환경지수': '2', 'pm10등급': '1', 'pm25등급': '1'}, {'측정소명': '영등포구', '날짜': '2024-09-26 15:00', 'pm10농도': '22', 'pm25농도': '18', 'so2농도': '0.003', 'co농도': '0.3', 'o3농도': '0.078', 'no2농도': '0.017', '통합대기환경수치': '90', '통합대기환경지수': '2', 'pm10등급': '1', 'pm25등급': '1'}, {'측정소명': '영등포로', '날짜': '2024-09-26 15:00', 'pm10농도': '25', 'pm25농도': '16', 'so2농도': '0.002', 'co농도': '0.5', 'o3농도': '0.059', 'no2농도': '0.032', '통합대기환경수치': '75', '통합대기환경지수': '2', 'pm10등급': '1', 'pm25등급': '1'}, {'측정소명': '동작구', '날짜': '2024-09-26 15:00', 'pm10농도': '31', 'pm25농도': '19', 'so2농도': '0.003', 'co농도': '0.3', 'o3농도': '0.085', 'no2농도': '0.017', '통합대기환경수치': '96', '통합대기환경지수': '2', 'pm10등급': '1', 'pm25등급': '1'}, {'측정소명': '동작대로 중앙차로', '날짜': '2024-09-26 15:00', 'pm10농도': '30', 'pm25농도': '24', 'so2농도': '0.003', 'co농도': '0.4', 'o3농도': '0.069', 'no2농도': '0.039', '통합대기환경수치': '83', '통합대기환경지수': '2', 'pm10등급': '1', 'pm25등급': '2'}, {'측정소명': '관악구', '날짜': '2024-09-26 15:00', 'pm10농도': '28', 'pm25농도': '15', 'so2농도': '0.003', 'co농도': '0.3', 'o3농도': '0.076', 'no2농도': '0.017', '통합대기환경수치': '89', '통합대기환경지수': '2', 'pm10등급': '1', 'pm25등급': '1'}, {'측정소명': '강남구', '날짜': '2024-09-26 15:00', 'pm10농도': '27', 'pm25농도': '19', 'so2농도': '0.003', 'co농도': '0.4', 'o3농도': '0.080', 'no2농도': '0.017', '통합대기환경수치': '92', '통합대기환경지수': '2', 'pm10등급': '1', 'pm25등급': '1'}, {'측정소명': '서초구', '날짜': '2024-09-26 15:00', 'pm10농도': '33', 'pm25농도': '17', 'so2농도': '0.003', 'co농도': '0.3', 'o3농도': '0.081', 'no2농도': '0.015', '통합대기환경수치': '92', '통합대기환경지수': '2', 'pm10등급': '1', 'pm25등급': '1'}, {'측정소명': '도산대로', '날짜': '2024-09-26 15:00', 'pm10농도': '27', 'pm25농도': '21', 'so2농도': '0.003', 'co농도': '0.6', 'o3농도': '0.066', 'no2농도': '0.020', '통합대기환경수치': '81', '통합대기환경지수': '2', 'pm10등급': '1', 'pm25등급': '2'}, {'측정소명': '강남대로', '날짜': '2024-09-26 15:00', 'pm10농도': '32', 'pm25농도': '17', 'so2농도': '0.002', 'co농도': '0.6', 'o3농도': '0.050', 'no2농도': '0.039', '통합대기환경수치': '67', '통합대기환경지수': '2', 'pm10등급': '1', 'pm25등급': '1'}, {'측정소명': '송파구', '날짜': '2024-09-26 15:00', 'pm10농도': '31', 'pm25농도': '12', 'so2농도': '0.003', 'co농도': '0.4', 'o3농도': '0.075', 'no2농도': '0.019', '통합대기환경수치': '88', '통합대기환경지수': '2', 'pm10등급': '1', 'pm25등급': '1'}, {'측정소명': '강동구', '날짜': '2024-09-26 15:00', 'pm10농도': '30', 'pm25농도': '22', 'so2농도': '0.003', 'co농도': '0.5', 'o3농도': '0.081', 'no2농도': '0.014', '통합대기환경수치': '93', '통합대기환경지수': '2', 'pm10등급': '1', 'pm25등급': '1'}, {'측정소명': '천호대로', '날짜': '2024-09-26 15:00', 'pm10농도': '28', 'pm25농도': '16', 'so2농도': '0.002', 'co농도': '0.5', 'o3농도': '0.065', 'no2농도': '0.037', '통합대기환경수치': '80', '통합대기환경지수': '2', 'pm10등급': '1', 'pm25등급': '1'}, {'측정소명': '금천구', '날짜': '2024-09-26 15:00', 'pm10농도': '22', 'pm25농도': '18', 'so2농도': '0.003', 'co농도': '0.4', 'o3농도': '0.077', 'no2농도': '0.020', '통합대기환경수치': '90', '통합대기환경지수': '2', 'pm10등급': '1', 'pm25등급': '1'}, {'측정소명': '시흥대로', '날짜': '2024-09-26 15:00', 'pm10농도': '30', 'pm25농도': '19', 'so2농도': '0.003', 'co농도': '0.4', 'o3농도': '0.065', 'no2농도': '0.024', '통합대기환경수치': '79', '통합대기환경지수': '2', 'pm10등급': '1', 'pm25등급': '2'}, {'측정소명': '강북구', '날짜': '2024-09-26 15:00', 'pm10농도': '16', 'pm25농도': '8', 'so2농도': '0.002', 'co농도': '0.3', 'o3농도': '0.080', 'no2농도': '0.006', '통합대기환경수치': '92', '통합대기환경지수': '2', 'pm10등급': '1', 'pm25등급': '1'}, {'측정소명': '양천구', '날짜': '2024-09-26 15:00', 'pm10농도': '19', 'pm25농도': '15', 'so2농도': '0.003', 'co농도': '0.3', 'o3농도': '0.068', 'no2농도': '0.013', '통합대기환경수치': '82', '통합대기환경지수': '2', 'pm10등급': '1', 'pm25등급': '1'}, {'측정소명': '노원구', '날짜': '2024-09-26 15:00', 'pm10농도': '23', 'pm25농도': '11', 'so2농도': '0.002', 'co농도': '0.3', 'o3농도': '0.071', 'no2농도': '0.008', '통합대기환경수치': '84', '통합대기환경지수': '2', 'pm10등급': '1', 'pm25등급': '1'}, {'측정소명': '화랑로', '날짜': '2024-09-26 15:00', 'pm10농도': '-', 'pm25농도': '-', 'so2농도': '-', 'co농도': '-', 'o3농도': '-', 'no2농도': '-', '통합대기환경수치': '-', '통합대기환경지수': None, 'pm10등급': None, 'pm25등급': None}]\n"
     ]
    }
   ],
   "source": [
    "def parse_air_quality_data(data):\n",
    "    items = data['response']['body']['items']\n",
    "    air_quality_info = []\n",
    "    for item in items:\n",
    "        info = {\n",
    "            '측정소명': item.get('stationName'),\n",
    "            '날짜': item.get('dataTime'),\n",
    "            'pm10농도': item.get('pm10Value'),\n",
    "            'pm25농도': item.get('pm25Value'),\n",
    "            'so2농도': item.get('so2Value'),\n",
    "            'co농도': item.get('coValue'),\n",
    "            'o3농도': item.get('o3Value'),\n",
    "            'no2농도': item.get('no2Value'),\n",
    "            '통합대기환경수치': item.get('khaiValue'),\n",
    "            '통합대기환경지수': item.get('khaiGrade'),\n",
    "            'pm10등급': item.get('pm10Grade'),\n",
    "            'pm25등급': item.get('pm25Grade')\n",
    "        }\n",
    "        air_quality_info.append(info)\n",
    "    return air_quality_info\n",
    " \n",
    "air_quality_info = parse_air_quality_data(data)\n",
    "print(air_quality_info)"
   ]
  },
  {
   "cell_type": "code",
   "execution_count": 18,
   "metadata": {},
   "outputs": [
    {
     "name": "stdout",
     "output_type": "stream",
     "text": [
      "[Document(metadata={}, page_content='측정소명: 중구, 날짜: 2024-09-26 15:00, pm10농도: 23, pm25농도: 18, 통합대기환경수치: 92'), Document(metadata={}, page_content='측정소명: 한강대로, 날짜: 2024-09-26 15:00, pm10농도: 41, pm25농도: 18, 통합대기환경수치: 93'), Document(metadata={}, page_content='측정소명: 종로구, 날짜: 2024-09-26 15:00, pm10농도: 24, pm25농도: 16, 통합대기환경수치: 94'), Document(metadata={}, page_content='측정소명: 청계천로, 날짜: 2024-09-26 15:00, pm10농도: 30, pm25농도: 19, 통합대기환경수치: -'), Document(metadata={}, page_content='측정소명: 종로, 날짜: 2024-09-26 15:00, pm10농도: 32, pm25농도: 16, 통합대기환경수치: 81'), Document(metadata={}, page_content='측정소명: 용산구, 날짜: 2024-09-26 15:00, pm10농도: 28, pm25농도: 18, 통합대기환경수치: 85'), Document(metadata={}, page_content='측정소명: 광진구, 날짜: 2024-09-26 15:00, pm10농도: 27, pm25농도: 20, 통합대기환경수치: 115'), Document(metadata={}, page_content='측정소명: 성동구, 날짜: 2024-09-26 15:00, pm10농도: 30, pm25농도: 17, 통합대기환경수치: 93'), Document(metadata={}, page_content='측정소명: 강변북로, 날짜: 2024-09-26 15:00, pm10농도: 33, pm25농도: -, 통합대기환경수치: -'), Document(metadata={}, page_content='측정소명: 중랑구, 날짜: 2024-09-26 15:00, pm10농도: 26, pm25농도: 16, 통합대기환경수치: 91'), Document(metadata={}, page_content='측정소명: 동대문구, 날짜: 2024-09-26 15:00, pm10농도: -, pm25농도: -, 통합대기환경수치: -'), Document(metadata={}, page_content='측정소명: 홍릉로, 날짜: 2024-09-26 15:00, pm10농도: 30, pm25농도: 15, 통합대기환경수치: -'), Document(metadata={}, page_content='측정소명: 성북구, 날짜: 2024-09-26 15:00, pm10농도: 26, pm25농도: 13, 통합대기환경수치: 87'), Document(metadata={}, page_content='측정소명: 정릉로, 날짜: 2024-09-26 15:00, pm10농도: 32, pm25농도: 17, 통합대기환경수치: 84'), Document(metadata={}, page_content='측정소명: 도봉구, 날짜: 2024-09-26 15:00, pm10농도: 14, pm25농도: 13, 통합대기환경수치: 92'), Document(metadata={}, page_content='측정소명: 은평구, 날짜: 2024-09-26 15:00, pm10농도: 22, pm25농도: 18, 통합대기환경수치: 73'), Document(metadata={}, page_content='측정소명: 서대문구, 날짜: 2024-09-26 15:00, pm10농도: 19, pm25농도: 12, 통합대기환경수치: 95'), Document(metadata={}, page_content='측정소명: 마포구, 날짜: 2024-09-26 15:00, pm10농도: 17, pm25농도: 15, 통합대기환경수치: 89'), Document(metadata={}, page_content='측정소명: 신촌로, 날짜: 2024-09-26 15:00, pm10농도: 28, pm25농도: 22, 통합대기환경수치: 66'), Document(metadata={}, page_content='측정소명: 강서구, 날짜: 2024-09-26 15:00, pm10농도: 21, pm25농도: 17, 통합대기환경수치: 86'), Document(metadata={}, page_content='측정소명: 공항대로, 날짜: 2024-09-26 15:00, pm10농도: -, pm25농도: -, 통합대기환경수치: -'), Document(metadata={}, page_content='측정소명: 구로구, 날짜: 2024-09-26 15:00, pm10농도: 22, pm25농도: 10, 통합대기환경수치: 86'), Document(metadata={}, page_content='측정소명: 영등포구, 날짜: 2024-09-26 15:00, pm10농도: 22, pm25농도: 18, 통합대기환경수치: 90'), Document(metadata={}, page_content='측정소명: 영등포로, 날짜: 2024-09-26 15:00, pm10농도: 25, pm25농도: 16, 통합대기환경수치: 75'), Document(metadata={}, page_content='측정소명: 동작구, 날짜: 2024-09-26 15:00, pm10농도: 31, pm25농도: 19, 통합대기환경수치: 96'), Document(metadata={}, page_content='측정소명: 동작대로 중앙차로, 날짜: 2024-09-26 15:00, pm10농도: 30, pm25농도: 24, 통합대기환경수치: 83'), Document(metadata={}, page_content='측정소명: 관악구, 날짜: 2024-09-26 15:00, pm10농도: 28, pm25농도: 15, 통합대기환경수치: 89'), Document(metadata={}, page_content='측정소명: 강남구, 날짜: 2024-09-26 15:00, pm10농도: 27, pm25농도: 19, 통합대기환경수치: 92'), Document(metadata={}, page_content='측정소명: 서초구, 날짜: 2024-09-26 15:00, pm10농도: 33, pm25농도: 17, 통합대기환경수치: 92'), Document(metadata={}, page_content='측정소명: 도산대로, 날짜: 2024-09-26 15:00, pm10농도: 27, pm25농도: 21, 통합대기환경수치: 81'), Document(metadata={}, page_content='측정소명: 강남대로, 날짜: 2024-09-26 15:00, pm10농도: 32, pm25농도: 17, 통합대기환경수치: 67'), Document(metadata={}, page_content='측정소명: 송파구, 날짜: 2024-09-26 15:00, pm10농도: 31, pm25농도: 12, 통합대기환경수치: 88'), Document(metadata={}, page_content='측정소명: 강동구, 날짜: 2024-09-26 15:00, pm10농도: 30, pm25농도: 22, 통합대기환경수치: 93'), Document(metadata={}, page_content='측정소명: 천호대로, 날짜: 2024-09-26 15:00, pm10농도: 28, pm25농도: 16, 통합대기환경수치: 80'), Document(metadata={}, page_content='측정소명: 금천구, 날짜: 2024-09-26 15:00, pm10농도: 22, pm25농도: 18, 통합대기환경수치: 90'), Document(metadata={}, page_content='측정소명: 시흥대로, 날짜: 2024-09-26 15:00, pm10농도: 30, pm25농도: 19, 통합대기환경수치: 79'), Document(metadata={}, page_content='측정소명: 강북구, 날짜: 2024-09-26 15:00, pm10농도: 16, pm25농도: 8, 통합대기환경수치: 92'), Document(metadata={}, page_content='측정소명: 양천구, 날짜: 2024-09-26 15:00, pm10농도: 19, pm25농도: 15, 통합대기환경수치: 82'), Document(metadata={}, page_content='측정소명: 노원구, 날짜: 2024-09-26 15:00, pm10농도: 23, pm25농도: 11, 통합대기환경수치: 84'), Document(metadata={}, page_content='측정소명: 화랑로, 날짜: 2024-09-26 15:00, pm10농도: -, pm25농도: -, 통합대기환경수치: -')]\n"
     ]
    }
   ],
   "source": [
    "from langchain_community.vectorstores import FAISS\n",
    "from langchain_text_splitters import RecursiveCharacterTextSplitter\n",
    "from langchain.schema import Document\n",
    " \n",
    "documents = [Document(page_content=\", \".join([f\"{key}: {str(info[key])}\" for key in ['측정소명', '날짜', 'pm10농도', 'pm25농도', '통합대기환경수치']])) for info in air_quality_info]\n",
    "print(documents)"
   ]
  },
  {
   "cell_type": "code",
   "execution_count": 20,
   "metadata": {},
   "outputs": [
    {
     "name": "stdout",
     "output_type": "stream",
     "text": [
      "{'response': {'body': {'totalCount': 40, 'items': [{'so2Grade': '1', 'coFlag': None, 'khaiValue': '91', 'so2Value': '0.003', 'coValue': '0.5', 'pm25Flag': None, 'pm10Flag': None, 'o3Grade': '2', 'pm10Value': '27', 'khaiGrade': '2', 'pm25Value': '16', 'sidoName': '서울', 'no2Flag': None, 'no2Grade': '1', 'o3Flag': None, 'pm25Grade': '2', 'so2Flag': None, 'dataTime': '2024-09-26 16:00', 'coGrade': '1', 'no2Value': '0.022', 'stationName': '한강대로', 'pm10Grade': '1', 'o3Value': '0.079'}, {'so2Grade': '1', 'coFlag': None, 'khaiValue': '88', 'so2Value': '0.004', 'coValue': '0.3', 'pm25Flag': None, 'pm10Flag': None, 'o3Grade': '2', 'pm10Value': '24', 'khaiGrade': '2', 'pm25Value': '13', 'sidoName': '서울', 'no2Flag': None, 'no2Grade': '1', 'o3Flag': None, 'pm25Grade': '1', 'so2Flag': None, 'dataTime': '2024-09-26 16:00', 'coGrade': '1', 'no2Value': '0.015', 'stationName': '종로구', 'pm10Grade': '1', 'o3Value': '0.075'}, {'so2Grade': '1', 'coFlag': None, 'khaiValue': '-', 'so2Value': '0.002', 'coValue': '0.4', 'pm25Flag': None, 'pm10Flag': None, 'o3Grade': '2', 'pm10Value': '37', 'khaiGrade': None, 'pm25Value': '15', 'sidoName': '서울', 'no2Flag': None, 'no2Grade': '1', 'o3Flag': None, 'pm25Grade': None, 'so2Flag': None, 'dataTime': '2024-09-26 16:00', 'coGrade': '1', 'no2Value': '0.021', 'stationName': '청계천로', 'pm10Grade': None, 'o3Value': '0.063'}, {'so2Grade': '1', 'coFlag': None, 'khaiValue': '81', 'so2Value': '0.003', 'coValue': '0.4', 'pm25Flag': None, 'pm10Flag': None, 'o3Grade': '2', 'pm10Value': '29', 'khaiGrade': '2', 'pm25Value': '14', 'sidoName': '서울', 'no2Flag': None, 'no2Grade': '1', 'o3Flag': None, 'pm25Grade': '1', 'so2Flag': None, 'dataTime': '2024-09-26 16:00', 'coGrade': '1', 'no2Value': '0.019', 'stationName': '종로', 'pm10Grade': '1', 'o3Value': '0.067'}, {'so2Grade': '1', 'coFlag': None, 'khaiValue': '79', 'so2Value': '0.003', 'coValue': '0.4', 'pm25Flag': None, 'pm10Flag': None, 'o3Grade': '2', 'pm10Value': '28', 'khaiGrade': '2', 'pm25Value': '17', 'sidoName': '서울', 'no2Flag': None, 'no2Grade': '1', 'o3Flag': None, 'pm25Grade': '2', 'so2Flag': None, 'dataTime': '2024-09-26 16:00', 'coGrade': '1', 'no2Value': '0.026', 'stationName': '용산구', 'pm10Grade': '1', 'o3Value': '0.064'}, {'so2Grade': '1', 'coFlag': None, 'khaiValue': '121', 'so2Value': '0.003', 'coValue': '0.7', 'pm25Flag': None, 'pm10Flag': None, 'o3Grade': '3', 'pm10Value': '24', 'khaiGrade': '3', 'pm25Value': '16', 'sidoName': '서울', 'no2Flag': None, 'no2Grade': '1', 'o3Flag': None, 'pm25Grade': '1', 'so2Flag': None, 'dataTime': '2024-09-26 16:00', 'coGrade': '1', 'no2Value': '0.018', 'stationName': '광진구', 'pm10Grade': '1', 'o3Value': '0.098'}, {'so2Grade': '1', 'coFlag': None, 'khaiValue': '90', 'so2Value': '0.003', 'coValue': '0.3', 'pm25Flag': None, 'pm10Flag': None, 'o3Grade': '2', 'pm10Value': '27', 'khaiGrade': '2', 'pm25Value': '17', 'sidoName': '서울', 'no2Flag': None, 'no2Grade': '1', 'o3Flag': None, 'pm25Grade': '2', 'so2Flag': None, 'dataTime': '2024-09-26 16:00', 'coGrade': '1', 'no2Value': '0.022', 'stationName': '성동구', 'pm10Grade': '1', 'o3Value': '0.078'}, {'so2Grade': '1', 'coFlag': None, 'khaiValue': '85', 'so2Value': '0.004', 'coValue': '0.3', 'pm25Flag': None, 'pm10Flag': None, 'o3Grade': '2', 'pm10Value': '21', 'khaiGrade': '2', 'pm25Value': '13', 'sidoName': '서울', 'no2Flag': None, 'no2Grade': '1', 'o3Flag': None, 'pm25Grade': '1', 'so2Flag': None, 'dataTime': '2024-09-26 16:00', 'coGrade': '1', 'no2Value': '0.010', 'stationName': '중구', 'pm10Grade': '1', 'o3Value': '0.072'}, {'so2Grade': '1', 'coFlag': None, 'khaiValue': '-', 'so2Value': '0.003', 'coValue': '0.6', 'pm25Flag': None, 'pm10Flag': None, 'o3Grade': '2', 'pm10Value': '32', 'khaiGrade': None, 'pm25Value': '15', 'sidoName': '서울', 'no2Flag': None, 'no2Grade': '2', 'o3Flag': None, 'pm25Grade': None, 'so2Flag': None, 'dataTime': '2024-09-26 16:00', 'coGrade': '1', 'no2Value': '0.055', 'stationName': '강변북로', 'pm10Grade': None, 'o3Value': '0.038'}, {'so2Grade': '1', 'coFlag': None, 'khaiValue': '93', 'so2Value': '0.002', 'coValue': '0.3', 'pm25Flag': None, 'pm10Flag': None, 'o3Grade': '2', 'pm10Value': '27', 'khaiGrade': '2', 'pm25Value': '18', 'sidoName': '서울', 'no2Flag': None, 'no2Grade': '1', 'o3Flag': None, 'pm25Grade': '1', 'so2Flag': None, 'dataTime': '2024-09-26 16:00', 'coGrade': '1', 'no2Value': '0.013', 'stationName': '중랑구', 'pm10Grade': '1', 'o3Value': '0.081'}, {'so2Grade': '1', 'coFlag': None, 'khaiValue': '-', 'so2Value': '0.003', 'coValue': '0.3', 'pm25Flag': None, 'pm10Flag': None, 'o3Grade': '2', 'pm10Value': '30', 'khaiGrade': None, 'pm25Value': '18', 'sidoName': '서울', 'no2Flag': None, 'no2Grade': '1', 'o3Flag': None, 'pm25Grade': None, 'so2Flag': None, 'dataTime': '2024-09-26 16:00', 'coGrade': '1', 'no2Value': '0.012', 'stationName': '동대문구', 'pm10Grade': None, 'o3Value': '0.081'}, {'so2Grade': '1', 'coFlag': None, 'khaiValue': '73', 'so2Value': '0.002', 'coValue': '0.5', 'pm25Flag': None, 'pm10Flag': None, 'o3Grade': '2', 'pm10Value': '27', 'khaiGrade': '2', 'pm25Value': '16', 'sidoName': '서울', 'no2Flag': None, 'no2Grade': '2', 'o3Flag': None, 'pm25Grade': '1', 'so2Flag': None, 'dataTime': '2024-09-26 16:00', 'coGrade': '1', 'no2Value': '0.035', 'stationName': '홍릉로', 'pm10Grade': '1', 'o3Value': '0.057'}, {'so2Grade': '1', 'coFlag': None, 'khaiValue': '83', 'so2Value': '0.003', 'coValue': '0.3', 'pm25Flag': None, 'pm10Flag': None, 'o3Grade': '2', 'pm10Value': '24', 'khaiGrade': '2', 'pm25Value': '15', 'sidoName': '서울', 'no2Flag': None, 'no2Grade': '1', 'o3Flag': None, 'pm25Grade': '1', 'so2Flag': None, 'dataTime': '2024-09-26 16:00', 'coGrade': '1', 'no2Value': '0.014', 'stationName': '성북구', 'pm10Grade': '1', 'o3Value': '0.069'}, {'so2Grade': '1', 'coFlag': None, 'khaiValue': '76', 'so2Value': '0.003', 'coValue': '0.4', 'pm25Flag': None, 'pm10Flag': None, 'o3Grade': '2', 'pm10Value': '27', 'khaiGrade': '2', 'pm25Value': '15', 'sidoName': '서울', 'no2Flag': None, 'no2Grade': '2', 'o3Flag': None, 'pm25Grade': '1', 'so2Flag': None, 'dataTime': '2024-09-26 16:00', 'coGrade': '1', 'no2Value': '0.039', 'stationName': '정릉로', 'pm10Grade': '1', 'o3Value': '0.061'}, {'so2Grade': '1', 'coFlag': None, 'khaiValue': '96', 'so2Value': '0.002', 'coValue': '0.4', 'pm25Flag': None, 'pm10Flag': None, 'o3Grade': '2', 'pm10Value': '22', 'khaiGrade': '2', 'pm25Value': '10', 'sidoName': '서울', 'no2Flag': None, 'no2Grade': '1', 'o3Flag': None, 'pm25Grade': '1', 'so2Flag': None, 'dataTime': '2024-09-26 16:00', 'coGrade': '1', 'no2Value': '0.010', 'stationName': '도봉구', 'pm10Grade': '1', 'o3Value': '0.085'}, {'so2Grade': '1', 'coFlag': None, 'khaiValue': '72', 'so2Value': '0.003', 'coValue': '0.3', 'pm25Flag': None, 'pm10Flag': None, 'o3Grade': '2', 'pm10Value': '24', 'khaiGrade': '2', 'pm25Value': '11', 'sidoName': '서울', 'no2Flag': None, 'no2Grade': '1', 'o3Flag': None, 'pm25Grade': '1', 'so2Flag': None, 'dataTime': '2024-09-26 16:00', 'coGrade': '1', 'no2Value': '0.009', 'stationName': '은평구', 'pm10Grade': '1', 'o3Value': '0.056'}, {'so2Grade': '1', 'coFlag': None, 'khaiValue': '92', 'so2Value': '0.003', 'coValue': '0.3', 'pm25Flag': None, 'pm10Flag': None, 'o3Grade': '2', 'pm10Value': '20', 'khaiGrade': '2', 'pm25Value': '9', 'sidoName': '서울', 'no2Flag': None, 'no2Grade': '1', 'o3Flag': None, 'pm25Grade': '1', 'so2Flag': None, 'dataTime': '2024-09-26 16:00', 'coGrade': '1', 'no2Value': '0.011', 'stationName': '서대문구', 'pm10Grade': '1', 'o3Value': '0.081'}, {'so2Grade': '1', 'coFlag': None, 'khaiValue': '91', 'so2Value': '0.003', 'coValue': '0.3', 'pm25Flag': None, 'pm10Flag': None, 'o3Grade': '2', 'pm10Value': '20', 'khaiGrade': '2', 'pm25Value': '12', 'sidoName': '서울', 'no2Flag': None, 'no2Grade': '1', 'o3Flag': None, 'pm25Grade': '1', 'so2Flag': None, 'dataTime': '2024-09-26 16:00', 'coGrade': '1', 'no2Value': '0.014', 'stationName': '마포구', 'pm10Grade': '1', 'o3Value': '0.079'}, {'so2Grade': '1', 'coFlag': None, 'khaiValue': '67', 'so2Value': '0.003', 'coValue': '0.6', 'pm25Flag': None, 'pm10Flag': None, 'o3Grade': '2', 'pm10Value': '24', 'khaiGrade': '2', 'pm25Value': '12', 'sidoName': '서울', 'no2Flag': None, 'no2Grade': '2', 'o3Flag': None, 'pm25Grade': '1', 'so2Flag': None, 'dataTime': '2024-09-26 16:00', 'coGrade': '1', 'no2Value': '0.040', 'stationName': '신촌로', 'pm10Grade': '1', 'o3Value': '0.045'}, {'so2Grade': '1', 'coFlag': None, 'khaiValue': '83', 'so2Value': '0.003', 'coValue': '0.3', 'pm25Flag': None, 'pm10Flag': None, 'o3Grade': '2', 'pm10Value': '22', 'khaiGrade': '2', 'pm25Value': '14', 'sidoName': '서울', 'no2Flag': None, 'no2Grade': '1', 'o3Flag': None, 'pm25Grade': '1', 'so2Flag': None, 'dataTime': '2024-09-26 16:00', 'coGrade': '1', 'no2Value': '0.012', 'stationName': '강서구', 'pm10Grade': '1', 'o3Value': '0.070'}, {'so2Grade': None, 'coFlag': '통신장애', 'khaiValue': '-', 'so2Value': '-', 'coValue': '-', 'pm25Flag': '통신장애', 'pm10Flag': '통신장애', 'o3Grade': None, 'pm10Value': '-', 'khaiGrade': None, 'pm25Value': '-', 'sidoName': '서울', 'no2Flag': '통신장애', 'no2Grade': None, 'o3Flag': '통신장애', 'pm25Grade': None, 'so2Flag': '통신장애', 'dataTime': '2024-09-26 16:00', 'coGrade': None, 'no2Value': '-', 'stationName': '공항대로', 'pm10Grade': None, 'o3Value': '-'}, {'so2Grade': '1', 'coFlag': None, 'khaiValue': '88', 'so2Value': '0.003', 'coValue': '0.4', 'pm25Flag': None, 'pm10Flag': None, 'o3Grade': '2', 'pm10Value': '24', 'khaiGrade': '2', 'pm25Value': '15', 'sidoName': '서울', 'no2Flag': None, 'no2Grade': '1', 'o3Flag': None, 'pm25Grade': '1', 'so2Flag': None, 'dataTime': '2024-09-26 16:00', 'coGrade': '1', 'no2Value': '0.011', 'stationName': '구로구', 'pm10Grade': '1', 'o3Value': '0.075'}, {'so2Grade': '1', 'coFlag': None, 'khaiValue': '94', 'so2Value': '0.003', 'coValue': '0.3', 'pm25Flag': None, 'pm10Flag': None, 'o3Grade': '2', 'pm10Value': '25', 'khaiGrade': '2', 'pm25Value': '14', 'sidoName': '서울', 'no2Flag': None, 'no2Grade': '1', 'o3Flag': None, 'pm25Grade': '1', 'so2Flag': None, 'dataTime': '2024-09-26 16:00', 'coGrade': '1', 'no2Value': '0.016', 'stationName': '영등포구', 'pm10Grade': '1', 'o3Value': '0.083'}, {'so2Grade': '1', 'coFlag': None, 'khaiValue': '74', 'so2Value': '0.004', 'coValue': '0.5', 'pm25Flag': None, 'pm10Flag': None, 'o3Grade': '2', 'pm10Value': '27', 'khaiGrade': '2', 'pm25Value': '17', 'sidoName': '서울', 'no2Flag': None, 'no2Grade': '2', 'o3Flag': None, 'pm25Grade': '1', 'so2Flag': None, 'dataTime': '2024-09-26 16:00', 'coGrade': '1', 'no2Value': '0.036', 'stationName': '영등포로', 'pm10Grade': '1', 'o3Value': '0.058'}, {'so2Grade': '1', 'coFlag': None, 'khaiValue': '89', 'so2Value': '0.003', 'coValue': '0.3', 'pm25Flag': None, 'pm10Flag': None, 'o3Grade': '2', 'pm10Value': '26', 'khaiGrade': '2', 'pm25Value': '14', 'sidoName': '서울', 'no2Flag': None, 'no2Grade': '1', 'o3Flag': None, 'pm25Grade': '1', 'so2Flag': None, 'dataTime': '2024-09-26 16:00', 'coGrade': '1', 'no2Value': '0.017', 'stationName': '동작구', 'pm10Grade': '1', 'o3Value': '0.077'}, {'so2Grade': '1', 'coFlag': None, 'khaiValue': '76', 'so2Value': '0.003', 'coValue': '0.4', 'pm25Flag': None, 'pm10Flag': None, 'o3Grade': '2', 'pm10Value': '28', 'khaiGrade': '2', 'pm25Value': '21', 'sidoName': '서울', 'no2Flag': None, 'no2Grade': '2', 'o3Flag': None, 'pm25Grade': '2', 'so2Flag': None, 'dataTime': '2024-09-26 16:00', 'coGrade': '1', 'no2Value': '0.040', 'stationName': '동작대로 중앙차로', 'pm10Grade': '1', 'o3Value': '0.061'}, {'so2Grade': '1', 'coFlag': None, 'khaiValue': '88', 'so2Value': '0.003', 'coValue': '0.3', 'pm25Flag': None, 'pm10Flag': None, 'o3Grade': '2', 'pm10Value': '29', 'khaiGrade': '2', 'pm25Value': '17', 'sidoName': '서울', 'no2Flag': None, 'no2Grade': '1', 'o3Flag': None, 'pm25Grade': '1', 'so2Flag': None, 'dataTime': '2024-09-26 16:00', 'coGrade': '1', 'no2Value': '0.018', 'stationName': '관악구', 'pm10Grade': '1', 'o3Value': '0.075'}, {'so2Grade': '1', 'coFlag': None, 'khaiValue': '91', 'so2Value': '0.003', 'coValue': '0.4', 'pm25Flag': None, 'pm10Flag': None, 'o3Grade': '2', 'pm10Value': '29', 'khaiGrade': '2', 'pm25Value': '18', 'sidoName': '서울', 'no2Flag': None, 'no2Grade': '1', 'o3Flag': None, 'pm25Grade': '1', 'so2Flag': None, 'dataTime': '2024-09-26 16:00', 'coGrade': '1', 'no2Value': '0.017', 'stationName': '강남구', 'pm10Grade': '1', 'o3Value': '0.079'}, {'so2Grade': '1', 'coFlag': None, 'khaiValue': '88', 'so2Value': '0.003', 'coValue': '0.3', 'pm25Flag': None, 'pm10Flag': None, 'o3Grade': '2', 'pm10Value': '23', 'khaiGrade': '2', 'pm25Value': '10', 'sidoName': '서울', 'no2Flag': None, 'no2Grade': '1', 'o3Flag': None, 'pm25Grade': '1', 'so2Flag': None, 'dataTime': '2024-09-26 16:00', 'coGrade': '1', 'no2Value': '0.014', 'stationName': '서초구', 'pm10Grade': '1', 'o3Value': '0.076'}, {'so2Grade': '1', 'coFlag': None, 'khaiValue': '78', 'so2Value': '0.003', 'coValue': '0.5', 'pm25Flag': None, 'pm10Flag': None, 'o3Grade': '2', 'pm10Value': '32', 'khaiGrade': '2', 'pm25Value': '20', 'sidoName': '서울', 'no2Flag': None, 'no2Grade': '1', 'o3Flag': None, 'pm25Grade': '2', 'so2Flag': None, 'dataTime': '2024-09-26 16:00', 'coGrade': '1', 'no2Value': '0.018', 'stationName': '도산대로', 'pm10Grade': '1', 'o3Value': '0.063'}, {'so2Grade': '1', 'coFlag': None, 'khaiValue': '67', 'so2Value': '0.002', 'coValue': '0.6', 'pm25Flag': None, 'pm10Flag': None, 'o3Grade': '2', 'pm10Value': '26', 'khaiGrade': '2', 'pm25Value': '13', 'sidoName': '서울', 'no2Flag': None, 'no2Grade': '2', 'o3Flag': None, 'pm25Grade': '1', 'so2Flag': None, 'dataTime': '2024-09-26 16:00', 'coGrade': '1', 'no2Value': '0.039', 'stationName': '강남대로', 'pm10Grade': '1', 'o3Value': '0.049'}, {'so2Grade': '1', 'coFlag': None, 'khaiValue': '92', 'so2Value': '0.003', 'coValue': '0.3', 'pm25Flag': None, 'pm10Flag': None, 'o3Grade': '2', 'pm10Value': '29', 'khaiGrade': '2', 'pm25Value': '17', 'sidoName': '서울', 'no2Flag': None, 'no2Grade': '1', 'o3Flag': None, 'pm25Grade': '1', 'so2Flag': None, 'dataTime': '2024-09-26 16:00', 'coGrade': '1', 'no2Value': '0.017', 'stationName': '송파구', 'pm10Grade': '1', 'o3Value': '0.080'}, {'so2Grade': '1', 'coFlag': None, 'khaiValue': '98', 'so2Value': '0.003', 'coValue': '0.5', 'pm25Flag': None, 'pm10Flag': None, 'o3Grade': '2', 'pm10Value': '30', 'khaiGrade': '2', 'pm25Value': '19', 'sidoName': '서울', 'no2Flag': None, 'no2Grade': '1', 'o3Flag': None, 'pm25Grade': '1', 'so2Flag': None, 'dataTime': '2024-09-26 16:00', 'coGrade': '1', 'no2Value': '0.014', 'stationName': '강동구', 'pm10Grade': '1', 'o3Value': '0.087'}, {'so2Grade': '1', 'coFlag': None, 'khaiValue': '91', 'so2Value': '0.003', 'coValue': '0.4', 'pm25Flag': None, 'pm10Flag': None, 'o3Grade': '2', 'pm10Value': '27', 'khaiGrade': '2', 'pm25Value': '19', 'sidoName': '서울', 'no2Flag': None, 'no2Grade': '1', 'o3Flag': None, 'pm25Grade': '2', 'so2Flag': None, 'dataTime': '2024-09-26 16:00', 'coGrade': '1', 'no2Value': '0.027', 'stationName': '천호대로', 'pm10Grade': '1', 'o3Value': '0.080'}, {'so2Grade': '1', 'coFlag': None, 'khaiValue': '84', 'so2Value': '0.003', 'coValue': '0.3', 'pm25Flag': None, 'pm10Flag': None, 'o3Grade': '2', 'pm10Value': '18', 'khaiGrade': '2', 'pm25Value': '15', 'sidoName': '서울', 'no2Flag': None, 'no2Grade': '1', 'o3Flag': None, 'pm25Grade': '2', 'so2Flag': None, 'dataTime': '2024-09-26 16:00', 'coGrade': '1', 'no2Value': '0.016', 'stationName': '금천구', 'pm10Grade': '1', 'o3Value': '0.071'}, {'so2Grade': '1', 'coFlag': None, 'khaiValue': '78', 'so2Value': '0.003', 'coValue': '0.4', 'pm25Flag': None, 'pm10Flag': None, 'o3Grade': '2', 'pm10Value': '33', 'khaiGrade': '2', 'pm25Value': '18', 'sidoName': '서울', 'no2Flag': None, 'no2Grade': '1', 'o3Flag': None, 'pm25Grade': '2', 'so2Flag': None, 'dataTime': '2024-09-26 16:00', 'coGrade': '1', 'no2Value': '0.027', 'stationName': '시흥대로', 'pm10Grade': '1', 'o3Value': '0.063'}, {'so2Grade': '1', 'coFlag': None, 'khaiValue': '93', 'so2Value': '0.002', 'coValue': '0.3', 'pm25Flag': None, 'pm10Flag': None, 'o3Grade': '2', 'pm10Value': '22', 'khaiGrade': '2', 'pm25Value': '19', 'sidoName': '서울', 'no2Flag': None, 'no2Grade': '1', 'o3Flag': None, 'pm25Grade': '1', 'so2Flag': None, 'dataTime': '2024-09-26 16:00', 'coGrade': '1', 'no2Value': '0.007', 'stationName': '강북구', 'pm10Grade': '1', 'o3Value': '0.082'}, {'so2Grade': '1', 'coFlag': None, 'khaiValue': '82', 'so2Value': '0.002', 'coValue': '0.3', 'pm25Flag': None, 'pm10Flag': None, 'o3Grade': '2', 'pm10Value': '22', 'khaiGrade': '2', 'pm25Value': '15', 'sidoName': '서울', 'no2Flag': None, 'no2Grade': '1', 'o3Flag': None, 'pm25Grade': '1', 'so2Flag': None, 'dataTime': '2024-09-26 16:00', 'coGrade': '1', 'no2Value': '0.014', 'stationName': '양천구', 'pm10Grade': '1', 'o3Value': '0.068'}, {'so2Grade': '1', 'coFlag': None, 'khaiValue': '92', 'so2Value': '0.002', 'coValue': '0.3', 'pm25Flag': None, 'pm10Flag': None, 'o3Grade': '2', 'pm10Value': '24', 'khaiGrade': '2', 'pm25Value': '13', 'sidoName': '서울', 'no2Flag': None, 'no2Grade': '1', 'o3Flag': None, 'pm25Grade': '1', 'so2Flag': None, 'dataTime': '2024-09-26 16:00', 'coGrade': '1', 'no2Value': '0.009', 'stationName': '노원구', 'pm10Grade': '1', 'o3Value': '0.080'}, {'so2Grade': None, 'coFlag': '통신장애', 'khaiValue': '-', 'so2Value': '-', 'coValue': '-', 'pm25Flag': '통신장애', 'pm10Flag': '통신장애', 'o3Grade': None, 'pm10Value': '-', 'khaiGrade': None, 'pm25Value': '-', 'sidoName': '서울', 'no2Flag': '통신장애', 'no2Grade': None, 'o3Flag': '통신장애', 'pm25Grade': None, 'so2Flag': '통신장애', 'dataTime': '2024-09-26 16:00', 'coGrade': None, 'no2Value': '-', 'stationName': '화랑로', 'pm10Grade': None, 'o3Value': '-'}], 'pageNo': 1, 'numOfRows': 100}, 'header': {'resultMsg': 'NORMAL_CODE', 'resultCode': '00'}}}\n"
     ]
    }
   ],
   "source": [
    "import json\n",
    "import requests\n",
    "sido = \"서울\"\n",
    "url = 'http://apis.data.go.kr/B552584/ArpltnInforInqireSvc/getCtprvnRltmMesureDnsty'\n",
    "params ={'serviceKey' : 'fLoVrDwSn9qBTNUOApqBrjY+d99UJWe32K8T77qE77kvTXEXoHsx8KUde+p4vO+loILHU5VuVz4aXXUTuNT4Ig==', 'returnType' : 'json', 'numOfRows' : '100', 'pageNo' : '1', 'sidoName' : sido, 'ver' : '1.0' }    \n",
    "response = requests.get(url, params=params)\n",
    "content = response.content.decode('utf-8')\n",
    "data = json.loads(content)\n",
    "print(data)"
   ]
  },
  {
   "cell_type": "code",
   "execution_count": 21,
   "metadata": {},
   "outputs": [
    {
     "name": "stdout",
     "output_type": "stream",
     "text": [
      "측정소: 용산구\n",
      "측정 시간: 2024-09-26 16:00\n",
      "미세먼지(PM10) 농도: 28\n",
      "초미세먼지(PM2.5) 농도: 17\n",
      "오존(O3) 농도: 0.064\n",
      "통합대기환경지수(KHAI) 등급: 2\n",
      "================================\n"
     ]
    }
   ],
   "source": [
    "# '용산구'에 해당하는 데이터만 출력\n",
    "for item in data['response']['body']['items']:\n",
    "    if '용산' in item['stationName']:\n",
    "        print(f\"측정소: {item['stationName']}\")\n",
    "        print(f\"측정 시간: {item['dataTime']}\")\n",
    "        print(f\"미세먼지(PM10) 농도: {item['pm10Value']}\")\n",
    "        print(f\"초미세먼지(PM2.5) 농도: {item['pm25Value']}\")\n",
    "        print(f\"오존(O3) 농도: {item['o3Value']}\")\n",
    "        print(f\"통합대기환경지수(KHAI) 등급: {item['khaiGrade']}\")\n",
    "        print(\"================================\")\n"
   ]
  }
 ],
 "metadata": {
  "kernelspec": {
   "display_name": "myenvseason2",
   "language": "python",
   "name": "python3"
  },
  "language_info": {
   "codemirror_mode": {
    "name": "ipython",
    "version": 3
   },
   "file_extension": ".py",
   "mimetype": "text/x-python",
   "name": "python",
   "nbconvert_exporter": "python",
   "pygments_lexer": "ipython3",
   "version": "3.10.12"
  }
 },
 "nbformat": 4,
 "nbformat_minor": 2
}
