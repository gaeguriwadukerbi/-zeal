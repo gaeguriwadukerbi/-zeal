{
 "cells": [
  {
   "cell_type": "code",
   "execution_count": 1,
   "metadata": {},
   "outputs": [
    {
     "name": "stderr",
     "output_type": "stream",
     "text": [
      "c:\\Users\\AISW-203-116\\Documents\\1\\myenvseason2\\lib\\site-packages\\sentence_transformers\\cross_encoder\\CrossEncoder.py:13: TqdmWarning: IProgress not found. Please update jupyter and ipywidgets. See https://ipywidgets.readthedocs.io/en/stable/user_install.html\n",
      "  from tqdm.autonotebook import tqdm, trange\n",
      "c:\\Users\\AISW-203-116\\Documents\\1\\myenvseason2\\lib\\site-packages\\huggingface_hub\\file_download.py:147: UserWarning: `huggingface_hub` cache-system uses symlinks by default to efficiently store duplicated files but your machine does not support them in C:\\Users\\AISW-203-116\\.cache\\huggingface\\hub\\models--jhgan--ko-sroberta-multitask. Caching files will still work but in a degraded version that might require more space on your disk. This warning can be disabled by setting the `HF_HUB_DISABLE_SYMLINKS_WARNING` environment variable. For more details, see https://huggingface.co/docs/huggingface_hub/how-to-cache#limitations.\n",
      "To support symlinks on Windows, you either need to activate Developer Mode or to run Python as an administrator. In order to activate developer mode, see this article: https://docs.microsoft.com/en-us/windows/apps/get-started/enable-your-device-for-development\n",
      "  warnings.warn(message)\n",
      "c:\\Users\\AISW-203-116\\Documents\\1\\myenvseason2\\lib\\site-packages\\transformers\\tokenization_utils_base.py:1617: FutureWarning: `clean_up_tokenization_spaces` was not set. It will be set to `True` by default. This behavior will be deprecated in transformers v4.45, and will be then set to `False` by default. For more details check this issue: https://github.com/huggingface/transformers/issues/31884\n",
      "  warnings.warn(\n"
     ]
    }
   ],
   "source": [
    "from sentence_transformers import SentenceTransformer, util\n",
    "import numpy as np\n",
    " \n",
    "embedder = SentenceTransformer(\"jhgan/ko-sroberta-multitask\")"
   ]
  },
  {
   "cell_type": "code",
   "execution_count": 2,
   "metadata": {},
   "outputs": [
    {
     "name": "stdout",
     "output_type": "stream",
     "text": [
      "tensor([[-4.1471e-01, -1.2158e-01,  2.9411e-01,  ...,  4.9623e-01,\n",
      "          1.9211e-01,  1.9770e-01],\n",
      "        [-1.5623e-01,  9.3865e-02,  3.8433e-01,  ..., -1.9108e-05,\n",
      "         -1.9683e-01,  4.0181e-01],\n",
      "        [-1.6551e-01, -1.7846e-01, -1.8657e-01,  ...,  2.3019e-01,\n",
      "          3.6638e-02,  1.2398e+00],\n",
      "        [-7.2847e-02,  8.0315e-01, -5.1985e-02,  ...,  3.2008e-01,\n",
      "          3.0738e-02, -2.2079e-01],\n",
      "        [ 2.3119e-01, -8.1295e-02,  5.7027e-01,  ..., -2.5537e-01,\n",
      "         -1.2411e-01, -7.8843e-02]])\n"
     ]
    }
   ],
   "source": [
    "# Corpus with example sentences\n",
    "corpus = ['나는 아침에 밥을 먹었다.',\n",
    "          '나는 점심에 운동을 한다.',\n",
    "          '나는 저녁에 책을 읽는다.',\n",
    "          '나는 자정에 컴퓨터를 한다.',\n",
    "          '나는 새벽에 잠을 잔다.']\n",
    " \n",
    "corpus_embeddings = embedder.encode(corpus, convert_to_tensor=True)\n",
    "print(corpus_embeddings)"
   ]
  },
  {
   "cell_type": "code",
   "execution_count": 3,
   "metadata": {},
   "outputs": [
    {
     "name": "stdout",
     "output_type": "stream",
     "text": [
      "\n",
      "\n",
      "======================\n",
      "\n",
      "\n",
      "Query: 나는 정오에 조깅을 한다.\n",
      "\n",
      "Top 5 most similar sentences in corpus:\n",
      "나는 점심에 운동을 한다. (Score: 0.6833)\n",
      "나는 아침에 밥을 먹었다. (Score: 0.3104)\n",
      "나는 자정에 컴퓨터를 한다. (Score: 0.3095)\n",
      "나는 새벽에 잠을 잔다. (Score: 0.2267)\n",
      "나는 저녁에 책을 읽는다. (Score: 0.1944)\n"
     ]
    }
   ],
   "source": [
    "# Query sentences:\n",
    "queries = ['나는 정오에 조깅을 한다.']\n",
    " \n",
    "# Find the closest 5 sentences of the corpus for each query sentence based on cosine similarity\n",
    "top_k = 5\n",
    "for query in queries:\n",
    " query_embedding = embedder.encode(query, convert_to_tensor=True)\n",
    " cos_scores = util.pytorch_cos_sim(query_embedding, corpus_embeddings)[0]\n",
    " cos_scores = cos_scores.cpu()\n",
    " \n",
    " #We use np.argpartition, to only partially sort the top_k results\n",
    " top_results = np.argpartition(-cos_scores, range(top_k))[0:top_k]\n",
    " \n",
    " \n",
    " \n",
    " print(\"\\n\\n======================\\n\\n\")\n",
    " print(\"Query:\", query)\n",
    " print(\"\\nTop 5 most similar sentences in corpus:\")\n",
    " \n",
    " for idx in top_results[0:top_k]:\n",
    "  print(corpus[idx].strip(), \"(Score: %.4f)\" % (cos_scores[idx]))"
   ]
  },
  {
   "cell_type": "code",
   "execution_count": 7,
   "metadata": {},
   "outputs": [
    {
     "name": "stdout",
     "output_type": "stream",
     "text": [
      "Requirement already satisfied: langchain in c:\\users\\aisw-203-116\\documents\\1\\myenvseason2\\lib\\site-packages (0.3.1)\n",
      "Requirement already satisfied: tenacity!=8.4.0,<9.0.0,>=8.1.0 in c:\\users\\aisw-203-116\\documents\\1\\myenvseason2\\lib\\site-packages (from langchain) (8.5.0)\n",
      "Requirement already satisfied: langchain-core<0.4.0,>=0.3.6 in c:\\users\\aisw-203-116\\documents\\1\\myenvseason2\\lib\\site-packages (from langchain) (0.3.6)\n",
      "Requirement already satisfied: aiohttp<4.0.0,>=3.8.3 in c:\\users\\aisw-203-116\\documents\\1\\myenvseason2\\lib\\site-packages (from langchain) (3.10.6)\n",
      "Requirement already satisfied: pydantic<3.0.0,>=2.7.4 in c:\\users\\aisw-203-116\\documents\\1\\myenvseason2\\lib\\site-packages (from langchain) (2.9.2)\n",
      "Requirement already satisfied: PyYAML>=5.3 in c:\\users\\aisw-203-116\\documents\\1\\myenvseason2\\lib\\site-packages (from langchain) (6.0.2)\n",
      "Requirement already satisfied: requests<3,>=2 in c:\\users\\aisw-203-116\\documents\\1\\myenvseason2\\lib\\site-packages (from langchain) (2.32.3)\n",
      "Requirement already satisfied: langchain-text-splitters<0.4.0,>=0.3.0 in c:\\users\\aisw-203-116\\documents\\1\\myenvseason2\\lib\\site-packages (from langchain) (0.3.0)\n",
      "Requirement already satisfied: async-timeout<5.0.0,>=4.0.0 in c:\\users\\aisw-203-116\\documents\\1\\myenvseason2\\lib\\site-packages (from langchain) (4.0.3)\n",
      "Requirement already satisfied: numpy<2,>=1 in c:\\users\\aisw-203-116\\documents\\1\\myenvseason2\\lib\\site-packages (from langchain) (1.26.4)\n",
      "Requirement already satisfied: SQLAlchemy<3,>=1.4 in c:\\users\\aisw-203-116\\documents\\1\\myenvseason2\\lib\\site-packages (from langchain) (2.0.35)\n",
      "Requirement already satisfied: langsmith<0.2.0,>=0.1.17 in c:\\users\\aisw-203-116\\documents\\1\\myenvseason2\\lib\\site-packages (from langchain) (0.1.128)\n",
      "Requirement already satisfied: aiohappyeyeballs>=2.3.0 in c:\\users\\aisw-203-116\\documents\\1\\myenvseason2\\lib\\site-packages (from aiohttp<4.0.0,>=3.8.3->langchain) (2.4.0)\n",
      "Requirement already satisfied: aiosignal>=1.1.2 in c:\\users\\aisw-203-116\\documents\\1\\myenvseason2\\lib\\site-packages (from aiohttp<4.0.0,>=3.8.3->langchain) (1.3.1)\n",
      "Requirement already satisfied: attrs>=17.3.0 in c:\\users\\aisw-203-116\\documents\\1\\myenvseason2\\lib\\site-packages (from aiohttp<4.0.0,>=3.8.3->langchain) (24.2.0)\n",
      "Requirement already satisfied: frozenlist>=1.1.1 in c:\\users\\aisw-203-116\\documents\\1\\myenvseason2\\lib\\site-packages (from aiohttp<4.0.0,>=3.8.3->langchain) (1.4.1)\n",
      "Requirement already satisfied: multidict<7.0,>=4.5 in c:\\users\\aisw-203-116\\documents\\1\\myenvseason2\\lib\\site-packages (from aiohttp<4.0.0,>=3.8.3->langchain) (6.1.0)\n",
      "Requirement already satisfied: yarl<2.0,>=1.12.0 in c:\\users\\aisw-203-116\\documents\\1\\myenvseason2\\lib\\site-packages (from aiohttp<4.0.0,>=3.8.3->langchain) (1.12.1)\n",
      "Requirement already satisfied: typing-extensions>=4.7 in c:\\users\\aisw-203-116\\documents\\1\\myenvseason2\\lib\\site-packages (from langchain-core<0.4.0,>=0.3.6->langchain) (4.12.2)\n",
      "Requirement already satisfied: packaging<25,>=23.2 in c:\\users\\aisw-203-116\\documents\\1\\myenvseason2\\lib\\site-packages (from langchain-core<0.4.0,>=0.3.6->langchain) (24.1)\n",
      "Requirement already satisfied: jsonpatch<2.0,>=1.33 in c:\\users\\aisw-203-116\\documents\\1\\myenvseason2\\lib\\site-packages (from langchain-core<0.4.0,>=0.3.6->langchain) (1.33)\n",
      "Requirement already satisfied: httpx<1,>=0.23.0 in c:\\users\\aisw-203-116\\documents\\1\\myenvseason2\\lib\\site-packages (from langsmith<0.2.0,>=0.1.17->langchain) (0.27.2)\n",
      "Requirement already satisfied: orjson<4.0.0,>=3.9.14 in c:\\users\\aisw-203-116\\documents\\1\\myenvseason2\\lib\\site-packages (from langsmith<0.2.0,>=0.1.17->langchain) (3.10.7)\n",
      "Requirement already satisfied: annotated-types>=0.6.0 in c:\\users\\aisw-203-116\\documents\\1\\myenvseason2\\lib\\site-packages (from pydantic<3.0.0,>=2.7.4->langchain) (0.7.0)\n",
      "Requirement already satisfied: pydantic-core==2.23.4 in c:\\users\\aisw-203-116\\documents\\1\\myenvseason2\\lib\\site-packages (from pydantic<3.0.0,>=2.7.4->langchain) (2.23.4)\n",
      "Requirement already satisfied: charset-normalizer<4,>=2 in c:\\users\\aisw-203-116\\documents\\1\\myenvseason2\\lib\\site-packages (from requests<3,>=2->langchain) (3.3.2)\n",
      "Requirement already satisfied: idna<4,>=2.5 in c:\\users\\aisw-203-116\\documents\\1\\myenvseason2\\lib\\site-packages (from requests<3,>=2->langchain) (3.10)\n",
      "Requirement already satisfied: certifi>=2017.4.17 in c:\\users\\aisw-203-116\\documents\\1\\myenvseason2\\lib\\site-packages (from requests<3,>=2->langchain) (2024.8.30)\n",
      "Requirement already satisfied: urllib3<3,>=1.21.1 in c:\\users\\aisw-203-116\\documents\\1\\myenvseason2\\lib\\site-packages (from requests<3,>=2->langchain) (2.2.3)\n",
      "Requirement already satisfied: greenlet!=0.4.17 in c:\\users\\aisw-203-116\\documents\\1\\myenvseason2\\lib\\site-packages (from SQLAlchemy<3,>=1.4->langchain) (3.1.1)\n",
      "Requirement already satisfied: anyio in c:\\users\\aisw-203-116\\documents\\1\\myenvseason2\\lib\\site-packages (from httpx<1,>=0.23.0->langsmith<0.2.0,>=0.1.17->langchain) (4.6.0)\n",
      "Requirement already satisfied: sniffio in c:\\users\\aisw-203-116\\documents\\1\\myenvseason2\\lib\\site-packages (from httpx<1,>=0.23.0->langsmith<0.2.0,>=0.1.17->langchain) (1.3.1)\n",
      "Requirement already satisfied: httpcore==1.* in c:\\users\\aisw-203-116\\documents\\1\\myenvseason2\\lib\\site-packages (from httpx<1,>=0.23.0->langsmith<0.2.0,>=0.1.17->langchain) (1.0.5)\n",
      "Requirement already satisfied: h11<0.15,>=0.13 in c:\\users\\aisw-203-116\\documents\\1\\myenvseason2\\lib\\site-packages (from httpcore==1.*->httpx<1,>=0.23.0->langsmith<0.2.0,>=0.1.17->langchain) (0.14.0)\n",
      "Requirement already satisfied: jsonpointer>=1.9 in c:\\users\\aisw-203-116\\documents\\1\\myenvseason2\\lib\\site-packages (from jsonpatch<2.0,>=1.33->langchain-core<0.4.0,>=0.3.6->langchain) (3.0.0)\n",
      "Requirement already satisfied: exceptiongroup>=1.0.2 in c:\\users\\aisw-203-116\\documents\\1\\myenvseason2\\lib\\site-packages (from anyio->httpx<1,>=0.23.0->langsmith<0.2.0,>=0.1.17->langchain) (1.2.2)\n",
      "Note: you may need to restart the kernel to use updated packages.\n"
     ]
    },
    {
     "name": "stderr",
     "output_type": "stream",
     "text": [
      "\n",
      "[notice] A new release of pip is available: 23.0.1 -> 24.2\n",
      "[notice] To update, run: python.exe -m pip install --upgrade pip\n"
     ]
    },
    {
     "name": "stdout",
     "output_type": "stream",
     "text": [
      "Requirement already satisfied: langchain_community in c:\\users\\aisw-203-116\\documents\\1\\myenvseason2\\lib\\site-packages (0.3.1)\n",
      "Requirement already satisfied: aiohttp<4.0.0,>=3.8.3 in c:\\users\\aisw-203-116\\documents\\1\\myenvseason2\\lib\\site-packages (from langchain_community) (3.10.6)\n",
      "Requirement already satisfied: pydantic-settings<3.0.0,>=2.4.0 in c:\\users\\aisw-203-116\\documents\\1\\myenvseason2\\lib\\site-packages (from langchain_community) (2.5.2)\n",
      "Requirement already satisfied: numpy<2,>=1 in c:\\users\\aisw-203-116\\documents\\1\\myenvseason2\\lib\\site-packages (from langchain_community) (1.26.4)\n",
      "Requirement already satisfied: langsmith<0.2.0,>=0.1.125 in c:\\users\\aisw-203-116\\documents\\1\\myenvseason2\\lib\\site-packages (from langchain_community) (0.1.128)\n",
      "Requirement already satisfied: requests<3,>=2 in c:\\users\\aisw-203-116\\documents\\1\\myenvseason2\\lib\\site-packages (from langchain_community) (2.32.3)\n",
      "Requirement already satisfied: langchain<0.4.0,>=0.3.1 in c:\\users\\aisw-203-116\\documents\\1\\myenvseason2\\lib\\site-packages (from langchain_community) (0.3.1)\n",
      "Requirement already satisfied: SQLAlchemy<3,>=1.4 in c:\\users\\aisw-203-116\\documents\\1\\myenvseason2\\lib\\site-packages (from langchain_community) (2.0.35)\n",
      "Requirement already satisfied: dataclasses-json<0.7,>=0.5.7 in c:\\users\\aisw-203-116\\documents\\1\\myenvseason2\\lib\\site-packages (from langchain_community) (0.6.7)\n",
      "Requirement already satisfied: tenacity!=8.4.0,<9.0.0,>=8.1.0 in c:\\users\\aisw-203-116\\documents\\1\\myenvseason2\\lib\\site-packages (from langchain_community) (8.5.0)\n",
      "Requirement already satisfied: langchain-core<0.4.0,>=0.3.6 in c:\\users\\aisw-203-116\\documents\\1\\myenvseason2\\lib\\site-packages (from langchain_community) (0.3.6)\n",
      "Requirement already satisfied: PyYAML>=5.3 in c:\\users\\aisw-203-116\\documents\\1\\myenvseason2\\lib\\site-packages (from langchain_community) (6.0.2)\n",
      "Requirement already satisfied: yarl<2.0,>=1.12.0 in c:\\users\\aisw-203-116\\documents\\1\\myenvseason2\\lib\\site-packages (from aiohttp<4.0.0,>=3.8.3->langchain_community) (1.12.1)\n",
      "Requirement already satisfied: frozenlist>=1.1.1 in c:\\users\\aisw-203-116\\documents\\1\\myenvseason2\\lib\\site-packages (from aiohttp<4.0.0,>=3.8.3->langchain_community) (1.4.1)\n",
      "Requirement already satisfied: aiosignal>=1.1.2 in c:\\users\\aisw-203-116\\documents\\1\\myenvseason2\\lib\\site-packages (from aiohttp<4.0.0,>=3.8.3->langchain_community) (1.3.1)\n",
      "Requirement already satisfied: async-timeout<5.0,>=4.0 in c:\\users\\aisw-203-116\\documents\\1\\myenvseason2\\lib\\site-packages (from aiohttp<4.0.0,>=3.8.3->langchain_community) (4.0.3)\n",
      "Requirement already satisfied: attrs>=17.3.0 in c:\\users\\aisw-203-116\\documents\\1\\myenvseason2\\lib\\site-packages (from aiohttp<4.0.0,>=3.8.3->langchain_community) (24.2.0)\n",
      "Requirement already satisfied: aiohappyeyeballs>=2.3.0 in c:\\users\\aisw-203-116\\documents\\1\\myenvseason2\\lib\\site-packages (from aiohttp<4.0.0,>=3.8.3->langchain_community) (2.4.0)\n",
      "Requirement already satisfied: multidict<7.0,>=4.5 in c:\\users\\aisw-203-116\\documents\\1\\myenvseason2\\lib\\site-packages (from aiohttp<4.0.0,>=3.8.3->langchain_community) (6.1.0)\n",
      "Requirement already satisfied: marshmallow<4.0.0,>=3.18.0 in c:\\users\\aisw-203-116\\documents\\1\\myenvseason2\\lib\\site-packages (from dataclasses-json<0.7,>=0.5.7->langchain_community) (3.22.0)\n",
      "Requirement already satisfied: typing-inspect<1,>=0.4.0 in c:\\users\\aisw-203-116\\documents\\1\\myenvseason2\\lib\\site-packages (from dataclasses-json<0.7,>=0.5.7->langchain_community) (0.9.0)\n",
      "Requirement already satisfied: pydantic<3.0.0,>=2.7.4 in c:\\users\\aisw-203-116\\documents\\1\\myenvseason2\\lib\\site-packages (from langchain<0.4.0,>=0.3.1->langchain_community) (2.9.2)\n",
      "Requirement already satisfied: langchain-text-splitters<0.4.0,>=0.3.0 in c:\\users\\aisw-203-116\\documents\\1\\myenvseason2\\lib\\site-packages (from langchain<0.4.0,>=0.3.1->langchain_community) (0.3.0)\n",
      "Requirement already satisfied: jsonpatch<2.0,>=1.33 in c:\\users\\aisw-203-116\\documents\\1\\myenvseason2\\lib\\site-packages (from langchain-core<0.4.0,>=0.3.6->langchain_community) (1.33)\n",
      "Requirement already satisfied: typing-extensions>=4.7 in c:\\users\\aisw-203-116\\documents\\1\\myenvseason2\\lib\\site-packages (from langchain-core<0.4.0,>=0.3.6->langchain_community) (4.12.2)\n",
      "Requirement already satisfied: packaging<25,>=23.2 in c:\\users\\aisw-203-116\\documents\\1\\myenvseason2\\lib\\site-packages (from langchain-core<0.4.0,>=0.3.6->langchain_community) (24.1)\n",
      "Requirement already satisfied: orjson<4.0.0,>=3.9.14 in c:\\users\\aisw-203-116\\documents\\1\\myenvseason2\\lib\\site-packages (from langsmith<0.2.0,>=0.1.125->langchain_community) (3.10.7)\n",
      "Requirement already satisfied: httpx<1,>=0.23.0 in c:\\users\\aisw-203-116\\documents\\1\\myenvseason2\\lib\\site-packages (from langsmith<0.2.0,>=0.1.125->langchain_community) (0.27.2)\n",
      "Requirement already satisfied: python-dotenv>=0.21.0 in c:\\users\\aisw-203-116\\documents\\1\\myenvseason2\\lib\\site-packages (from pydantic-settings<3.0.0,>=2.4.0->langchain_community) (1.0.1)\n",
      "Requirement already satisfied: charset-normalizer<4,>=2 in c:\\users\\aisw-203-116\\documents\\1\\myenvseason2\\lib\\site-packages (from requests<3,>=2->langchain_community) (3.3.2)\n",
      "Requirement already satisfied: urllib3<3,>=1.21.1 in c:\\users\\aisw-203-116\\documents\\1\\myenvseason2\\lib\\site-packages (from requests<3,>=2->langchain_community) (2.2.3)\n",
      "Requirement already satisfied: certifi>=2017.4.17 in c:\\users\\aisw-203-116\\documents\\1\\myenvseason2\\lib\\site-packages (from requests<3,>=2->langchain_community) (2024.8.30)\n",
      "Requirement already satisfied: idna<4,>=2.5 in c:\\users\\aisw-203-116\\documents\\1\\myenvseason2\\lib\\site-packages (from requests<3,>=2->langchain_community) (3.10)\n",
      "Requirement already satisfied: greenlet!=0.4.17 in c:\\users\\aisw-203-116\\documents\\1\\myenvseason2\\lib\\site-packages (from SQLAlchemy<3,>=1.4->langchain_community) (3.1.1)\n",
      "Requirement already satisfied: sniffio in c:\\users\\aisw-203-116\\documents\\1\\myenvseason2\\lib\\site-packages (from httpx<1,>=0.23.0->langsmith<0.2.0,>=0.1.125->langchain_community) (1.3.1)\n",
      "Requirement already satisfied: anyio in c:\\users\\aisw-203-116\\documents\\1\\myenvseason2\\lib\\site-packages (from httpx<1,>=0.23.0->langsmith<0.2.0,>=0.1.125->langchain_community) (4.6.0)\n",
      "Requirement already satisfied: httpcore==1.* in c:\\users\\aisw-203-116\\documents\\1\\myenvseason2\\lib\\site-packages (from httpx<1,>=0.23.0->langsmith<0.2.0,>=0.1.125->langchain_community) (1.0.5)\n",
      "Requirement already satisfied: h11<0.15,>=0.13 in c:\\users\\aisw-203-116\\documents\\1\\myenvseason2\\lib\\site-packages (from httpcore==1.*->httpx<1,>=0.23.0->langsmith<0.2.0,>=0.1.125->langchain_community) (0.14.0)\n",
      "Requirement already satisfied: jsonpointer>=1.9 in c:\\users\\aisw-203-116\\documents\\1\\myenvseason2\\lib\\site-packages (from jsonpatch<2.0,>=1.33->langchain-core<0.4.0,>=0.3.6->langchain_community) (3.0.0)\n",
      "Requirement already satisfied: pydantic-core==2.23.4 in c:\\users\\aisw-203-116\\documents\\1\\myenvseason2\\lib\\site-packages (from pydantic<3.0.0,>=2.7.4->langchain<0.4.0,>=0.3.1->langchain_community) (2.23.4)\n",
      "Requirement already satisfied: annotated-types>=0.6.0 in c:\\users\\aisw-203-116\\documents\\1\\myenvseason2\\lib\\site-packages (from pydantic<3.0.0,>=2.7.4->langchain<0.4.0,>=0.3.1->langchain_community) (0.7.0)\n",
      "Requirement already satisfied: mypy-extensions>=0.3.0 in c:\\users\\aisw-203-116\\documents\\1\\myenvseason2\\lib\\site-packages (from typing-inspect<1,>=0.4.0->dataclasses-json<0.7,>=0.5.7->langchain_community) (1.0.0)\n",
      "Requirement already satisfied: exceptiongroup>=1.0.2 in c:\\users\\aisw-203-116\\documents\\1\\myenvseason2\\lib\\site-packages (from anyio->httpx<1,>=0.23.0->langsmith<0.2.0,>=0.1.125->langchain_community) (1.2.2)\n",
      "Note: you may need to restart the kernel to use updated packages.\n"
     ]
    },
    {
     "name": "stderr",
     "output_type": "stream",
     "text": [
      "\n",
      "[notice] A new release of pip is available: 23.0.1 -> 24.2\n",
      "[notice] To update, run: python.exe -m pip install --upgrade pip\n"
     ]
    },
    {
     "name": "stdout",
     "output_type": "stream",
     "text": [
      "Requirement already satisfied: PyPDF in c:\\users\\aisw-203-116\\documents\\1\\myenvseason2\\lib\\site-packages (5.0.0)Note: you may need to restart the kernel to use updated packages.\n"
     ]
    },
    {
     "name": "stderr",
     "output_type": "stream",
     "text": [
      "\n",
      "[notice] A new release of pip is available: 23.0.1 -> 24.2\n",
      "[notice] To update, run: python.exe -m pip install --upgrade pip\n"
     ]
    },
    {
     "name": "stdout",
     "output_type": "stream",
     "text": [
      "\n",
      "Requirement already satisfied: typing_extensions>=4.0 in c:\\users\\aisw-203-116\\documents\\1\\myenvseason2\\lib\\site-packages (from PyPDF) (4.12.2)\n",
      "Requirement already satisfied: ctransformers in c:\\users\\aisw-203-116\\documents\\1\\myenvseason2\\lib\\site-packages (0.2.27)Note: you may need to restart the kernel to use updated packages.\n",
      "\n",
      "Requirement already satisfied: py-cpuinfo<10.0.0,>=9.0.0 in c:\\users\\aisw-203-116\\documents\\1\\myenvseason2\\lib\\site-packages (from ctransformers) (9.0.0)\n",
      "Requirement already satisfied: huggingface-hub in c:\\users\\aisw-203-116\\documents\\1\\myenvseason2\\lib\\site-packages (from ctransformers) (0.25.1)\n",
      "Requirement already satisfied: filelock in c:\\users\\aisw-203-116\\documents\\1\\myenvseason2\\lib\\site-packages (from huggingface-hub->ctransformers) (3.16.1)\n",
      "Requirement already satisfied: requests in c:\\users\\aisw-203-116\\documents\\1\\myenvseason2\\lib\\site-packages (from huggingface-hub->ctransformers) (2.32.3)\n",
      "Requirement already satisfied: typing-extensions>=3.7.4.3 in c:\\users\\aisw-203-116\\documents\\1\\myenvseason2\\lib\\site-packages (from huggingface-hub->ctransformers) (4.12.2)\n",
      "Requirement already satisfied: pyyaml>=5.1 in c:\\users\\aisw-203-116\\documents\\1\\myenvseason2\\lib\\site-packages (from huggingface-hub->ctransformers) (6.0.2)\n",
      "Requirement already satisfied: tqdm>=4.42.1 in c:\\users\\aisw-203-116\\documents\\1\\myenvseason2\\lib\\site-packages (from huggingface-hub->ctransformers) (4.66.5)\n",
      "Requirement already satisfied: packaging>=20.9 in c:\\users\\aisw-203-116\\documents\\1\\myenvseason2\\lib\\site-packages (from huggingface-hub->ctransformers) (24.1)\n",
      "Requirement already satisfied: fsspec>=2023.5.0 in c:\\users\\aisw-203-116\\documents\\1\\myenvseason2\\lib\\site-packages (from huggingface-hub->ctransformers) (2024.9.0)\n",
      "Requirement already satisfied: colorama in c:\\users\\aisw-203-116\\documents\\1\\myenvseason2\\lib\\site-packages (from tqdm>=4.42.1->huggingface-hub->ctransformers) (0.4.6)\n",
      "Requirement already satisfied: urllib3<3,>=1.21.1 in c:\\users\\aisw-203-116\\documents\\1\\myenvseason2\\lib\\site-packages (from requests->huggingface-hub->ctransformers) (2.2.3)\n",
      "Requirement already satisfied: certifi>=2017.4.17 in c:\\users\\aisw-203-116\\documents\\1\\myenvseason2\\lib\\site-packages (from requests->huggingface-hub->ctransformers) (2024.8.30)\n",
      "Requirement already satisfied: charset-normalizer<4,>=2 in c:\\users\\aisw-203-116\\documents\\1\\myenvseason2\\lib\\site-packages (from requests->huggingface-hub->ctransformers) (3.3.2)\n",
      "Requirement already satisfied: idna<4,>=2.5 in c:\\users\\aisw-203-116\\documents\\1\\myenvseason2\\lib\\site-packages (from requests->huggingface-hub->ctransformers) (3.10)\n"
     ]
    },
    {
     "name": "stderr",
     "output_type": "stream",
     "text": [
      "\n",
      "[notice] A new release of pip is available: 23.0.1 -> 24.2\n",
      "[notice] To update, run: python.exe -m pip install --upgrade pip\n"
     ]
    },
    {
     "name": "stdout",
     "output_type": "stream",
     "text": [
      "Requirement already satisfied: faiss-cpu in c:\\users\\aisw-203-116\\documents\\1\\myenvseason2\\lib\\site-packages (1.8.0.post1)\n",
      "Requirement already satisfied: numpy<2.0,>=1.0 in c:\\users\\aisw-203-116\\documents\\1\\myenvseason2\\lib\\site-packages (from faiss-cpu) (1.26.4)\n",
      "Requirement already satisfied: packaging in c:\\users\\aisw-203-116\\documents\\1\\myenvseason2\\lib\\site-packages (from faiss-cpu) (24.1)\n",
      "Note: you may need to restart the kernel to use updated packages.\n"
     ]
    },
    {
     "name": "stderr",
     "output_type": "stream",
     "text": [
      "\n",
      "[notice] A new release of pip is available: 23.0.1 -> 24.2\n",
      "[notice] To update, run: python.exe -m pip install --upgrade pip\n"
     ]
    }
   ],
   "source": [
    "%pip install langchain\n",
    "%pip install langchain_community\n",
    "%pip install PyPDF\n",
    "%pip install ctransformers\n",
    "%pip install faiss-cpu"
   ]
  }
 ],
 "metadata": {
  "kernelspec": {
   "display_name": "base",
   "language": "python",
   "name": "python3"
  },
  "language_info": {
   "codemirror_mode": {
    "name": "ipython",
    "version": 3
   },
   "file_extension": ".py",
   "mimetype": "text/x-python",
   "name": "python",
   "nbconvert_exporter": "python",
   "pygments_lexer": "ipython3",
   "version": "3.10.12"
  }
 },
 "nbformat": 4,
 "nbformat_minor": 2
}
