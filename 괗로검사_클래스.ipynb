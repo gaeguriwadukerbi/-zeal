{
  "nbformat": 4,
  "nbformat_minor": 0,
  "metadata": {
    "colab": {
      "provenance": [],
      "authorship_tag": "ABX9TyNyrRMKAvxql1fBV/hvdp34",
      "include_colab_link": true
    },
    "kernelspec": {
      "name": "python3",
      "display_name": "Python 3"
    },
    "language_info": {
      "name": "python"
    }
  },
  "cells": [
    {
      "cell_type": "markdown",
      "metadata": {
        "id": "view-in-github",
        "colab_type": "text"
      },
      "source": [
        "<a href=\"https://colab.research.google.com/github/gaeguriwadukerbi/-zeal/blob/main/%EA%B4%97%EB%A1%9C%EA%B2%80%EC%82%AC_%ED%81%B4%EB%9E%98%EC%8A%A4.ipynb\" target=\"_parent\"><img src=\"https://colab.research.google.com/assets/colab-badge.svg\" alt=\"Open In Colab\"/></a>"
      ]
    },
    {
      "cell_type": "code",
      "execution_count": null,
      "metadata": {
        "colab": {
          "base_uri": "https://localhost:8080/"
        },
        "id": "IiB_1LM5syYK",
        "outputId": "5a76211f-23d5-4a58-bacd-ba0cff2a0942"
      },
      "outputs": [
        {
          "output_type": "stream",
          "name": "stdout",
          "text": [
            "The expression '[(a + b) * {c + d}]' is balanced.\n"
          ]
        }
      ],
      "source": [
        "class ParenthesesChecker:\n",
        "    def __init__(self):\n",
        "        self.stack = []\n",
        "        self.pairs = {\n",
        "            ')': '(',\n",
        "            '}': '{',\n",
        "            ']': '['\n",
        "        }\n",
        "    def is_balanced(self, expression):\n",
        "        for char in expression:\n",
        "            if char in self.pairs.values():\n",
        "                self.stack.append(char)\n",
        "            elif char in self.pairs.keys():\n",
        "                if self.stack == [] or self.stack.pop() != self.pairs[char]:\n",
        "                    return False\n",
        "        return not self.stack\n",
        "checker = ParenthesesChecker()\n",
        "expression = \"[(a + b) * {c + d}]\"\n",
        "print(f\"The expression '{expression}' is\", \"balanced.\" if checker.is_balanced(expression) else \"not balanced.\")"
      ]
    },
    {
      "cell_type": "code",
      "source": [],
      "metadata": {
        "id": "AEM-mFkOGNpr"
      },
      "execution_count": null,
      "outputs": []
    }
  ]
}