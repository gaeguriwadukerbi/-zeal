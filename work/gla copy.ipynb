{
 "cells": [
  {
   "cell_type": "code",
   "execution_count": 1,
   "metadata": {},
   "outputs": [
    {
     "name": "stdout",
     "output_type": "stream",
     "text": [
      "Requirement already satisfied: requests in c:\\users\\kdss9\\appdata\\local\\programs\\python\\python312\\lib\\site-packages (2.31.0)\n",
      "Requirement already satisfied: charset-normalizer<4,>=2 in c:\\users\\kdss9\\appdata\\local\\programs\\python\\python312\\lib\\site-packages (from requests) (3.3.2)\n",
      "Requirement already satisfied: idna<4,>=2.5 in c:\\users\\kdss9\\appdata\\local\\programs\\python\\python312\\lib\\site-packages (from requests) (3.7)\n",
      "Requirement already satisfied: urllib3<3,>=1.21.1 in c:\\users\\kdss9\\appdata\\local\\programs\\python\\python312\\lib\\site-packages (from requests) (2.2.1)\n",
      "Requirement already satisfied: certifi>=2017.4.17 in c:\\users\\kdss9\\appdata\\local\\programs\\python\\python312\\lib\\site-packages (from requests) (2024.2.2)\n",
      "Note: you may need to restart the kernel to use updated packages.\n"
     ]
    },
    {
     "name": "stderr",
     "output_type": "stream",
     "text": [
      "\n",
      "[notice] A new release of pip is available: 24.0 -> 24.2\n",
      "[notice] To update, run: python.exe -m pip install --upgrade pip\n"
     ]
    }
   ],
   "source": [
    "%pip install requests\n"
   ]
  },
  {
   "cell_type": "code",
   "execution_count": null,
   "metadata": {},
   "outputs": [],
   "source": [
    "import gradio as gr"
   ]
  },
  {
   "cell_type": "code",
   "execution_count": null,
   "metadata": {},
   "outputs": [],
   "source": [
    "pip install --upgrade jupyter ipywidgets\n"
   ]
  },
  {
   "cell_type": "code",
   "execution_count": null,
   "metadata": {},
   "outputs": [],
   "source": [
    "import gradio as gr\n",
    "\n",
    "def hello_world(image):\n",
    "    # 이미지 입력을 받았으므로 이를 그대로 반환하거나 다른 처리를 할 수 있습니다.\n",
    "    return image\n",
    "\n",
    "demo = gr.Interface(fn=hello_world, inputs=\"image\", outputs=\"image\")\n",
    "\n",
    "demo.launch()"
   ]
  },
  {
   "cell_type": "code",
   "execution_count": 2,
   "metadata": {},
   "outputs": [],
   "source": [
    "import gradio as gr\n",
    "import random\n",
    "import requests\n",
    "\n",
    "def request_chatgpt(input_text, histories, system_text):\n",
    "    endpoint = \"https://st004-oa.openai.azure.com/\"  \n",
    "    api_key = \"f7379e4b1f3346de8f5a55d5305a360f\"   \n",
    "    deployment_name = \"gpt-4o\"\n",
    "    ENDPOINT_URL = f\"{endpoint}openai/deployments/{deployment_name}/chat/completions?api-version=2024-02-15-preview\"\n",
    "\n",
    "    headers = {\n",
    "        \"Content-Type\": \"application/json\",\n",
    "        \"api-key\": api_key\n",
    "    }\n",
    "\n",
    "    body = {\n",
    "        \"temperature\": 0.7,\n",
    "        \"top_p\": 0.95,\n",
    "        \"max_tokens\": 800\n",
    "    }\n",
    "\n",
    "    messages = []\n",
    "\n",
    "    messages.append({\n",
    "        \"role\": \"system\",\n",
    "        \"content\": {\n",
    "            \"type\": \"text\",\n",
    "            \"text\": system_text\n",
    "        }\n",
    "    })\n",
    "\n",
    "    for history in histories:\n",
    "        messages.append({\n",
    "            \"role\": \"assistant\",\n",
    "            \"content\": {\n",
    "                \"type\": \"text\",\n",
    "                \"text\": history[0]\n",
    "            }\n",
    "        })\n",
    "        messages.append({\n",
    "            \"role\": \"user\",\n",
    "            \"content\": {\n",
    "                \"type\": \"text\",\n",
    "                \"text\": history[1]\n",
    "            }\n",
    "        })\n",
    "\n",
    "    user_message = {\n",
    "        \"role\": \"user\",\n",
    "        \"content\": {\n",
    "            \"type\": \"text\",\n",
    "            \"text\": input_text\n",
    "        }\n",
    "    }\n",
    "    messages.append(user_message)\n",
    "\n",
    "    body.update({\"messages\": messages})\n",
    "\n",
    "    response = requests.post(ENDPOINT_URL, headers=headers, json=body)\n",
    "    response_json = response.json()\n",
    "\n",
    "    if response.status_code == 200:\n",
    "        response_text = response_json['choices'][0]['message']['content']\n",
    "        print(response_text)\n",
    "        return response_text\n",
    "    else:\n",
    "        print(response.text)\n",
    "        return None\n",
    "\n",
    "def click_send_button(user_message, chatbot_histories, system_message):\n",
    "    response_message = request_chatgpt(user_message, chatbot_histories, system_message)\n",
    "\n",
    "    if response_message is None:\n",
    "        return \"\", chatbot_histories\n",
    "\n",
    "    print(chatbot_histories)\n",
    "    chatbot_histories.append((user_message, response_message))\n",
    "    return \"\", chatbot_histories\n",
    "\n",
    "with gr.Blocks() as demo:\n",
    "    with gr.Column():\n",
    "        chatbot = gr.Chatbot(label=\"GPT\")\n",
    "        system_textbox = gr.Textbox(label=\"시스템메시지\")\n",
    "\n",
    "    with gr.Row():\n",
    "        input_textbox = gr.Textbox(label=\"입력\", scale=5)\n",
    "        send_button = gr.Button(\"전송\")\n",
    "\n",
    "    send_button.click(fn=click_send_button, inputs=[input_textbox, chatbot, system_textbox], outputs=[input_textbox, chatbot])\n",
    "    input_textbox.submit(click_send_button, inputs=[input_textbox, chatbot, system_textbox], outputs=[input_textbox, chatbot])\n",
    "\n",
    "# Gradio 인터페이스 실행\n",
    "demo.launch()\n"
   ]
  }
 ],
 "metadata": {
  "kernelspec": {
   "display_name": "Python 3",
   "language": "python",
   "name": "python3"
  },
  "language_info": {
   "codemirror_mode": {
    "name": "ipython",
    "version": 3
   },
   "file_extension": ".py",
   "mimetype": "text/x-python",
   "name": "python",
   "nbconvert_exporter": "python",
   "pygments_lexer": "ipython3",
   "version": "3.12.3"
  }
 },
 "nbformat": 4,
 "nbformat_minor": 2
}
