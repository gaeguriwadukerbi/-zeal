{
 "cells": [
  {
   "cell_type": "code",
   "execution_count": 1,
   "metadata": {},
   "outputs": [
    {
     "name": "stdout",
     "output_type": "stream",
     "text": [
      "Requirement already satisfied: requests in c:\\users\\kdss9\\appdata\\local\\programs\\python\\python312\\lib\\site-packages (2.31.0)\n",
      "Requirement already satisfied: charset-normalizer<4,>=2 in c:\\users\\kdss9\\appdata\\local\\programs\\python\\python312\\lib\\site-packages (from requests) (3.3.2)\n",
      "Requirement already satisfied: idna<4,>=2.5 in c:\\users\\kdss9\\appdata\\local\\programs\\python\\python312\\lib\\site-packages (from requests) (3.7)\n",
      "Requirement already satisfied: urllib3<3,>=1.21.1 in c:\\users\\kdss9\\appdata\\local\\programs\\python\\python312\\lib\\site-packages (from requests) (2.2.1)\n",
      "Requirement already satisfied: certifi>=2017.4.17 in c:\\users\\kdss9\\appdata\\local\\programs\\python\\python312\\lib\\site-packages (from requests) (2024.2.2)\n",
      "Note: you may need to restart the kernel to use updated packages.\n"
     ]
    },
    {
     "name": "stderr",
     "output_type": "stream",
     "text": [
      "\n",
      "[notice] A new release of pip is available: 24.0 -> 24.2\n",
      "[notice] To update, run: python.exe -m pip install --upgrade pip\n"
     ]
    }
   ],
   "source": [
    "%pip install requests"
   ]
  },
  {
   "cell_type": "code",
   "execution_count": 4,
   "metadata": {
    "metadata": {}
   },
   "outputs": [
    {
     "name": "stdout",
     "output_type": "stream",
     "text": [
      "{'choices': [{'content_filter_results': {'hate': {'filtered': False, 'severity': 'safe'}, 'self_harm': {'filtered': False, 'severity': 'safe'}, 'sexual': {'filtered': False, 'severity': 'safe'}, 'violence': {'filtered': False, 'severity': 'safe'}}, 'finish_reason': 'stop', 'index': 0, 'logprobs': None, 'message': {'content': '물론이죠! 테스트는 우리에게 성장과 배움의 기회를 주는 중요한 과정입니다. 어떤 결과가 나오든, 그것은 당신의 능력을 확인하고 더 나아갈 수 있는 발판이 될 거예요. 긍정적인 마음으로 도전하세요, 당신은 이미 훌륭한 일을 하고 있습니다! 🌟', 'role': 'assistant'}}], 'created': 1724672521, 'id': 'chatcmpl-A0SOfIHBApcQh9DzEkHU1hFoBKlkQ', 'model': 'gpt-4o-2024-05-13', 'object': 'chat.completion', 'prompt_filter_results': [{'prompt_index': 0, 'content_filter_results': {'hate': {'filtered': False, 'severity': 'safe'}, 'jailbreak': {'filtered': False, 'detected': False}, 'self_harm': {'filtered': False, 'severity': 'safe'}, 'sexual': {'filtered': False, 'severity': 'safe'}, 'violence': {'filtered': False, 'severity': 'safe'}}}], 'system_fingerprint': 'fp_abc28019ad', 'usage': {'completion_tokens': 74, 'prompt_tokens': 105, 'total_tokens': 179}}\n"
     ]
    }
   ],
   "source": [
    "import requests\n",
    "\n",
    "endpoint = \"https://st004.openai.azure.com/\"\n",
    "api_key = \"7b80813713c14ae09d494ad800c89d0e\"\n",
    "deployment_name = \"st-004-openai\"\n",
    "\n",
    "headers = {\n",
    "    \"Content-Type\": \"application/json\",\n",
    "    \"api-key\": api_key,\n",
    "}\n",
    "\n",
    "data = {\n",
    " \"messages\": [\n",
    "    {\n",
    "      \"role\": \"system\",\n",
    "      \"content\": [\n",
    "        {\n",
    "          \"type\": \"text\",\n",
    "          \"text\": \"Assistant는 사용자가 자연어 목록을 JSON 형식으로 변환하는 데 도움이 되는 AI 챗봇입니다. 사용자가 JSON 형식으로 원하는 목록을 입력하면 사용자가 아무것도 제공하지 않은 경우 속성 레이블 목록을 제안한 다음 목록을 만들기 전에 사용자에게 확인하도록 요청합니다.\"\n",
    "        }\n",
    "      ]\n",
    "    },\n",
    "    {\n",
    "      \"role\": \"user\",\n",
    "      \"content\": [\n",
    "        {\n",
    "          \"type\": \"text\",\n",
    "          \"text\": \"동물 이름을 지을건데 동물 두종류 추천하고 이름과 성을\"\n",
    "        }\n",
    "      ]\n",
    "    },\n",
    "    {\n",
    "      \"role\": \"assistant\",\n",
    "      \"content\": [\n",
    "        {\n",
    "          \"type\": \"text\",\n",
    "          \"text\": \"좋습니다! 동물 두 종류와 각각의 이름과 성을 제안해드리겠습니다.\\n\\n1. 동물 종류: 고양이\\n   - 이름: 미야\\n   - 성: 김\\n\\n2. 동물 종류: 강아지\\n   - 이름: 바우\\n   - 성: 이\\n\\n이제 이 정보를 JSON 형식으로 변환하겠습니다. 다음과 같이 작성할 수 있습니다:\\n\\n```json\\n{\\n  \\\"animals\\\": [\\n    {\\n      \\\"type\\\": \\\"고양이\\\",\\n      \\\"name\\\": \\\"미야\\\",\\n      \\\"surname\\\": \\\"김\\\"\\n    },\\n    {\\n      \\\"type\\\": \\\"강아지\\\",\\n      \\\"name\\\": \\\"바우\\\",\\n      \\\"surname\\\": \\\"이\\\"\\n    }\\n  ]\\n}\\n```\\n\\n이 JSON 형식이 괜찮으신가요? 수정할 부분이 있으면 말씀해주세요.\"\n",
    "        }\n",
    "      ]\n",
    "    }\n",
    "  ],\n",
    "  \"temperature\": 0.7,\n",
    "  \"top_p\": 0.95,\n",
    "  \"max_tokens\": 800\n",
    "}\n",
    "\n",
    "response = requests.post(\n",
    "    f\"{endpoint}openai/deployments/{deployment_name}/chat/completions?api-version=2024-02-15-preview\",\n",
    "    headers=headers,\n",
    "    json=data\n",
    ")\n",
    "\n",
    "print(response.json())\n"
   ]
  }
 ],
 "metadata": {
  "kernelspec": {
   "display_name": "Python 3",
   "language": "python",
   "name": "python3"
  },
  "language_info": {
   "codemirror_mode": {
    "name": "ipython",
    "version": 3
   },
   "file_extension": ".py",
   "mimetype": "text/x-python",
   "name": "python",
   "nbconvert_exporter": "python",
   "pygments_lexer": "ipython3",
   "version": "3.12.3"
  }
 },
 "nbformat": 4,
 "nbformat_minor": 2
}
