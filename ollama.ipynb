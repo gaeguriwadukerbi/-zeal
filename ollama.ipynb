{
 "cells": [
  {
   "cell_type": "code",
   "execution_count": 3,
   "metadata": {},
   "outputs": [
    {
     "name": "stdout",
     "output_type": "stream",
     "text": [
      "<번역> I ate rice at the student cafeteria and my stomach feels too full.  \n"
     ]
    }
   ],
   "source": [
    "import ollama\n",
    " \n",
    "def generate_response(system_message, user_message, model=\"gemma2:9b\", temperature=0, top_p=1, top_k=1):\n",
    "    client = ollama.Client()\n",
    "    response = client.chat(\n",
    "        model=model,\n",
    "        stream=True,\n",
    "        messages=[\n",
    "            {\"role\": \"system\", \"content\": system_message},\n",
    "            {\"role\": \"user\", \"content\": user_message}\n",
    "        ],\n",
    "        options={\n",
    "            \"temperature\": temperature,\n",
    "            \"top_p\": top_p,\n",
    "            \"top_k\": top_k,\n",
    "        }\n",
    "    )\n",
    "    full_response = \"\"    \n",
    "    for chunk in response:\n",
    "        content = chunk['message']['content']\n",
    "        print(content, end='', flush=True)  # 실시간 스트리밍 출력\n",
    "        full_response += content  # 전체 응답 구성      \n",
    "    return full_response\n",
    " \n",
    "# 예시 사용법\n",
    "system_msg = \"\"\"\n",
    "### Instruction\n",
    "너는 이름이 폴리텍봇이야.\n",
    "너는 입력된 문장을 문단단위로 json형식으로 정리해야한다.\n",
    "형태는 다음과같다.\n",
    "\"문단번호\":\n",
    "\"주장\":\n",
    "\"근거\":\n",
    "\"요약\":\n",
    "\"\"\"\n",
    " \n",
    "text = \"인공지능의 발전과 직업 및 소득의 변화\n",
    " \n",
    "인공지능(AI)의 발전은 직업과 소득 구조에 큰 변화를 일으키고 있습니다. 노동 시장의 재편은 직업의 성격과 소득 분포에 심대한 영향을 미치고 있습니다. 본 에세이에서는 AI가 직업과 소득에 미치는 영향을 분석하고, 이에 대한 대응 방안을 제시하고자 합니다.\n",
    " \n",
    "AI 기술의 발전으로 단순하고 반복적인 작업은 AI와 로봇에 의해 대체되고 있습니다. 제조업, 물류, 서비스 업종에서 로봇이 인간의 노동을 대신하며, 이는 해당 분야의 일자리 감소로 이어지고 있습니다.\n",
    " \n",
    "그러나 AI는 새로운 직업 기회도 창출합니다. 데이터 과학자, 머신러닝 엔지니어 등의 직업이 생겨났으며, 자율주행차, 스마트 헬스케어 등 AI 기술을 활용한 새로운 산업에서도 많은 일자리가 창출되고 있습니다. 이러한 변화는 직업의 재교육과 전환을 필요로 하며, 새로운 기술 습득의 중요성이 커지고 있습니다.\n",
    " \n",
    "AI 도입은 소득 분포에도 큰 변화를 초래합니다. 고도로 숙련된 기술직의 수요 증가로 이들 직업의 소득은 상승하고 있지만, 자동화로 대체 가능한 직업에 종사하던 노동자들은 실직하거나 낮은 임금을 받게 되어 소득 불균형이 심화될 수 있습니다.\n",
    "또한 AI 기업의 부상으로 일부 기업가와 투자자들은 막대한 수익을 올리고 있습니다. 이로 인해 상위 1%의 소득이 증가하고, 중산층과 하위 계층의 소득은 상대적으로 정체되거나 감소하는 양상을 보이고 있습니다. 이러한 소득 불균형은 사회적 불안정성을 초래할 수 있으며, 이에 대한 대책 마련이 중요합니다.\n",
    " \n",
    "AI의 발전에 따른 직업과 소득의 변화에 대응하기 위해 몇 가지 중요한 방안이 필요합니다. 첫째, 교육과 재교육 프로그램을 강화해야 합니다. 빠르게 변화하는 기술 환경에 적응하기 위해서는 지속적인 학습이 필요하며, 정부와 기업은 이를 지원하는 체계를 구축해야 합니다.\n",
    "둘째, 사회 안전망을 강화해야 합니다. 일자리 변동성과 불확실성이 증가하는 시대에 실직자와 저소득층을 보호하기 위한 사회 안전망이 필수적입니다. 기본소득제 도입, 실업보험 강화, 직업 재교육 지원 등의 방안을 고려할 수 있습니다.\n",
    " \n",
    "셋째, 소득 불균형을 해소하기 위한 정책이 필요합니다. 세금 정책을 통해 고소득층과 기업의 이익을 공정하게 분배하고, 중산층과 저소득층의 소득을 증대시키는 방안을 마련해야 합니다. 또한 기업은 사회적 책임을 다하고 공정한 노동 환경을 조성해야 합니다.\n",
    " \n",
    "인공지능의 발전은 직업과 소득 구조에 큰 변화를 초래하고 있습니다. 자동화와 새로운 기술의 도입으로 일부 직업은 사라지고, 새로운 직업이 생겨나며, 소득 불균형이 심화되고 있습니다. 이러한 변화에 효과적으로 대응하기 위해서는 교육과 재교육, 사회 안전망 강화, 소득 불균형 해소를 위한 정책이 필요합니다. AI 시대의 도래는 도전과 기회를 동시에 제공하며, 이를 잘 활용하는 것이 앞으로의 사회적 안정과 번영을 위한 열쇠가 될 것입니다.\"\n",
    "user_msg = f\"\"\"\n",
    "### Question\n",
    " <원문> {text}\n",
    " <번역>\n",
    "\"\"\"\n",
    " \n",
    "response = generate_response(system_msg, user_msg, model=\"gemma2:9b\", temperature=0.5, top_p=1, top_k=1)\n",
    "# print(response)"
   ]
  }
 ],
 "metadata": {
  "kernelspec": {
   "display_name": "myenv",
   "language": "python",
   "name": "python3"
  },
  "language_info": {
   "codemirror_mode": {
    "name": "ipython",
    "version": 3
   },
   "file_extension": ".py",
   "mimetype": "text/x-python",
   "name": "python",
   "nbconvert_exporter": "python",
   "pygments_lexer": "ipython3",
   "version": "3.10.12"
  }
 },
 "nbformat": 4,
 "nbformat_minor": 2
}
